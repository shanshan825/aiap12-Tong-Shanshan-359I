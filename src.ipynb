{
 "cells": [
  {
   "cell_type": "code",
   "execution_count": 28,
   "metadata": {},
   "outputs": [],
   "source": [
    "import sqlite3\n",
    "import os\n",
    "import numpy as np\n",
    "import seaborn as sns\n",
    "import matplotlib.pyplot as plt\n",
    "import pandas as pd"
   ]
  },
  {
   "cell_type": "markdown",
   "metadata": {},
   "source": [
    "# Download Data"
   ]
  },
  {
   "cell_type": "code",
   "execution_count": 2,
   "metadata": {},
   "outputs": [],
   "source": [
    "#Create a connection to database\n",
    "con=sqlite3.connect(os.path.realpath('../Data/attrition.db'))"
   ]
  },
  {
   "cell_type": "code",
   "execution_count": 3,
   "metadata": {},
   "outputs": [],
   "source": [
    "df = pd.read_sql_query(\"SELECT * FROM attrition\", con)"
   ]
  },
  {
   "cell_type": "markdown",
   "metadata": {},
   "source": [
    "# Preprocess Data\n",
    "## Step 1: Correlated columns\n",
    "\n",
    "'Usage Time' is highly correlated to 'Usage Rate';\n",
    "\n",
    "Generate a new column 'Hours per Week' to remove correlated columns"
   ]
  },
  {
   "cell_type": "code",
   "execution_count": 4,
   "metadata": {},
   "outputs": [],
   "source": [
    "df['Hours per Week']=df['Usage Time']*df['Usage Rate']\n",
    "df.drop(['Usage Time','Usage Rate'],axis=1, inplace=True)"
   ]
  },
  {
   "cell_type": "code",
   "execution_count": 5,
   "metadata": {},
   "outputs": [
    {
     "data": {
      "text/html": [
       "<div>\n",
       "<style scoped>\n",
       "    .dataframe tbody tr th:only-of-type {\n",
       "        vertical-align: middle;\n",
       "    }\n",
       "\n",
       "    .dataframe tbody tr th {\n",
       "        vertical-align: top;\n",
       "    }\n",
       "\n",
       "    .dataframe thead th {\n",
       "        text-align: right;\n",
       "    }\n",
       "</style>\n",
       "<table border=\"1\" class=\"dataframe\">\n",
       "  <thead>\n",
       "    <tr style=\"text-align: right;\">\n",
       "      <th></th>\n",
       "      <th>Member Unique ID</th>\n",
       "      <th>Attrition</th>\n",
       "      <th>Age</th>\n",
       "      <th>Gender</th>\n",
       "      <th>Monthly Income</th>\n",
       "      <th>Travel Time</th>\n",
       "      <th>Qualification</th>\n",
       "      <th>Work Domain</th>\n",
       "      <th>Branch</th>\n",
       "      <th>Membership</th>\n",
       "      <th>Months</th>\n",
       "      <th>Birth Year</th>\n",
       "      <th>Hours per Week</th>\n",
       "    </tr>\n",
       "  </thead>\n",
       "  <tbody>\n",
       "    <tr>\n",
       "      <th>0</th>\n",
       "      <td>1d172e75-2c13-4b73-a1da-18d442a10bf7</td>\n",
       "      <td>1</td>\n",
       "      <td>41</td>\n",
       "      <td>Female</td>\n",
       "      <td>5993</td>\n",
       "      <td>0.2 hours</td>\n",
       "      <td>Diploma</td>\n",
       "      <td>Engineering</td>\n",
       "      <td>Changi</td>\n",
       "      <td>Gold</td>\n",
       "      <td>7</td>\n",
       "      <td>1981</td>\n",
       "      <td>14</td>\n",
       "    </tr>\n",
       "    <tr>\n",
       "      <th>1</th>\n",
       "      <td>6dee0995-9ff1-44a6-b3f1-fc5f7270c8ab</td>\n",
       "      <td>0</td>\n",
       "      <td>49</td>\n",
       "      <td>Male</td>\n",
       "      <td>5130</td>\n",
       "      <td>0.7 hours</td>\n",
       "      <td>Diploma</td>\n",
       "      <td>Engineering</td>\n",
       "      <td>Thomson</td>\n",
       "      <td>Normal</td>\n",
       "      <td>11</td>\n",
       "      <td>1973</td>\n",
       "      <td>6</td>\n",
       "    </tr>\n",
       "    <tr>\n",
       "      <th>2</th>\n",
       "      <td>c9fff882-42e7-4e12-88ab-74aba95113dc</td>\n",
       "      <td>1</td>\n",
       "      <td>37</td>\n",
       "      <td>Male</td>\n",
       "      <td>2090</td>\n",
       "      <td>20.0 mins</td>\n",
       "      <td>Diploma</td>\n",
       "      <td>Medical</td>\n",
       "      <td>Thomson</td>\n",
       "      <td>Normal</td>\n",
       "      <td>1</td>\n",
       "      <td>1985</td>\n",
       "      <td>8</td>\n",
       "    </tr>\n",
       "    <tr>\n",
       "      <th>3</th>\n",
       "      <td>1521db93-82d8-46a8-9718-6acde2a7c001</td>\n",
       "      <td>0</td>\n",
       "      <td>33</td>\n",
       "      <td>Female</td>\n",
       "      <td>2909</td>\n",
       "      <td>20.0 mins</td>\n",
       "      <td>Master</td>\n",
       "      <td>Engineering</td>\n",
       "      <td>Thomson</td>\n",
       "      <td>Normal</td>\n",
       "      <td>9</td>\n",
       "      <td>1989</td>\n",
       "      <td>0</td>\n",
       "    </tr>\n",
       "    <tr>\n",
       "      <th>4</th>\n",
       "      <td>e8a69be8-c96a-4f37-b14c-b3c75aa32db3</td>\n",
       "      <td>0</td>\n",
       "      <td>27</td>\n",
       "      <td>Male</td>\n",
       "      <td>3468</td>\n",
       "      <td>0.3 hours</td>\n",
       "      <td>Diploma</td>\n",
       "      <td>Information Technology</td>\n",
       "      <td>Thomson</td>\n",
       "      <td>Normal</td>\n",
       "      <td>3</td>\n",
       "      <td>1995</td>\n",
       "      <td>15</td>\n",
       "    </tr>\n",
       "  </tbody>\n",
       "</table>\n",
       "</div>"
      ],
      "text/plain": [
       "                       Member Unique ID  Attrition  Age  Gender  \\\n",
       "0  1d172e75-2c13-4b73-a1da-18d442a10bf7          1   41  Female   \n",
       "1  6dee0995-9ff1-44a6-b3f1-fc5f7270c8ab          0   49    Male   \n",
       "2  c9fff882-42e7-4e12-88ab-74aba95113dc          1   37    Male   \n",
       "3  1521db93-82d8-46a8-9718-6acde2a7c001          0   33  Female   \n",
       "4  e8a69be8-c96a-4f37-b14c-b3c75aa32db3          0   27    Male   \n",
       "\n",
       "   Monthly Income Travel Time Qualification             Work Domain   Branch  \\\n",
       "0            5993   0.2 hours       Diploma             Engineering   Changi   \n",
       "1            5130   0.7 hours       Diploma             Engineering  Thomson   \n",
       "2            2090   20.0 mins       Diploma                 Medical  Thomson   \n",
       "3            2909   20.0 mins        Master             Engineering  Thomson   \n",
       "4            3468   0.3 hours       Diploma  Information Technology  Thomson   \n",
       "\n",
       "  Membership  Months  Birth Year  Hours per Week  \n",
       "0       Gold       7        1981              14  \n",
       "1     Normal      11        1973               6  \n",
       "2     Normal       1        1985               8  \n",
       "3     Normal       9        1989               0  \n",
       "4     Normal       3        1995              15  "
      ]
     },
     "execution_count": 5,
     "metadata": {},
     "output_type": "execute_result"
    }
   ],
   "source": [
    "df.head()"
   ]
  },
  {
   "cell_type": "markdown",
   "metadata": {},
   "source": [
    "## Step 2: Columns with inconsistent or invalid values:\n",
    "\n",
    "### 2.1 Convert 'Travel Time' column with inconsistent units"
   ]
  },
  {
   "cell_type": "code",
   "execution_count": 6,
   "metadata": {},
   "outputs": [],
   "source": [
    "# create a function to convert the 'Travel Time' from string with different units to numerical values in mins \n",
    "def cal_travel_time(x):\n",
    "    if x.split()[1]=='mins':\n",
    "        return int(float(x.split()[0]))\n",
    "    else:\n",
    "        return int(float(x.split()[0])*60)"
   ]
  },
  {
   "cell_type": "code",
   "execution_count": 7,
   "metadata": {},
   "outputs": [],
   "source": [
    "# Apply the function cal_travel_time to column\n",
    "df['Travel Time']=df['Travel Time'].apply(lambda x: cal_travel_time(x))"
   ]
  },
  {
   "cell_type": "markdown",
   "metadata": {},
   "source": [
    "### 2.2 Convert 'Qualification' column with inconsistent cateogories"
   ]
  },
  {
   "cell_type": "code",
   "execution_count": 8,
   "metadata": {},
   "outputs": [
    {
     "data": {
      "text/plain": [
       "Bachelor                891\n",
       "Diploma                 765\n",
       "Master                  641\n",
       "Ph.D                    100\n",
       "Bachelor's               41\n",
       "Master's                 27\n",
       "Doctor of Philosophy      5\n",
       "Name: Qualification, dtype: int64"
      ]
     },
     "execution_count": 8,
     "metadata": {},
     "output_type": "execute_result"
    }
   ],
   "source": [
    "df['Qualification'].value_counts()"
   ]
  },
  {
   "cell_type": "code",
   "execution_count": 9,
   "metadata": {},
   "outputs": [],
   "source": [
    "# convert Bacheloar's into Bachelor; Convert 'Master's' into 'Master'; Convert \"Doctor of Philosophy\" to \"Ph.D\"\n",
    "df['Qualification']=df['Qualification'].map(\n",
    "    {'Bachelor':'Bachelor',\n",
    "     'Master':'Master',\n",
    "     'Ph.D':'Ph.D',\n",
    "     'Diploma':'Diploma',\n",
    "    \n",
    "    \"Bachelor's\":'Bachelor',\n",
    "     \"Master's\":'Master',\n",
    "     'Doctor of Philosophy':'Ph.D'})"
   ]
  },
  {
   "cell_type": "code",
   "execution_count": 10,
   "metadata": {},
   "outputs": [
    {
     "data": {
      "text/plain": [
       "Bachelor    932\n",
       "Diploma     765\n",
       "Master      668\n",
       "Ph.D        105\n",
       "Name: Qualification, dtype: int64"
      ]
     },
     "execution_count": 10,
     "metadata": {},
     "output_type": "execute_result"
    }
   ],
   "source": [
    "df['Qualification'].value_counts()"
   ]
  },
  {
   "cell_type": "markdown",
   "metadata": {},
   "source": [
    "### 2.3 Deal with invalid values in 'Monthly Income' columns"
   ]
  },
  {
   "cell_type": "code",
   "execution_count": 11,
   "metadata": {},
   "outputs": [
    {
     "data": {
      "text/plain": [
       "<matplotlib.axes._subplots.AxesSubplot at 0x1ab494d6dc8>"
      ]
     },
     "execution_count": 11,
     "metadata": {},
     "output_type": "execute_result"
    },
    {
     "data": {
      "image/png": "[encoded data removed]",
      "text/plain": [
       "<Figure size 432x288 with 1 Axes>"
      ]
     },
     "metadata": {
      "needs_background": "light"
     },
     "output_type": "display_data"
    }
   ],
   "source": [
    "df['Monthly Income'].hist(bins=20)"
   ]
  },
  {
   "cell_type": "code",
   "execution_count": 12,
   "metadata": {},
   "outputs": [],
   "source": [
    "df['Monthly Income']=abs(df['Monthly Income'])"
   ]
  },
  {
   "cell_type": "markdown",
   "metadata": {},
   "source": [
    "### 2.4 Deal with negative value (-1) in 'Age' and 'Birth Year' columns"
   ]
  },
  {
   "cell_type": "code",
   "execution_count": 13,
   "metadata": {},
   "outputs": [],
   "source": [
    "df['Age']=np.where(df['Age']>0, df['Age'], (2022-df['Birth Year']))"
   ]
  },
  {
   "cell_type": "code",
   "execution_count": 14,
   "metadata": {},
   "outputs": [],
   "source": [
    "df.drop('Birth Year', axis=1, inplace=True)"
   ]
  },
  {
   "cell_type": "markdown",
   "metadata": {},
   "source": [
    "### 2.5 Remove 'Member Unique ID' "
   ]
  },
  {
   "cell_type": "code",
   "execution_count": 15,
   "metadata": {},
   "outputs": [],
   "source": [
    "# This column does not hold meanings to Attrition\n",
    "df.drop('Member Unique ID', axis=1, inplace=True)"
   ]
  },
  {
   "cell_type": "markdown",
   "metadata": {},
   "source": [
    "## Step 3. Cateogrical data\n",
    "### 3.1 Cateogorical Columns without order: 'Gender', 'Branch', 'Work Domain'"
   ]
  },
  {
   "cell_type": "code",
   "execution_count": 16,
   "metadata": {},
   "outputs": [],
   "source": [
    "df=pd.get_dummies(df,columns=['Gender','Branch','Work Domain'],drop_first=True)"
   ]
  },
  {
   "cell_type": "code",
   "execution_count": 17,
   "metadata": {},
   "outputs": [
    {
     "data": {
      "text/html": [
       "<div>\n",
       "<style scoped>\n",
       "    .dataframe tbody tr th:only-of-type {\n",
       "        vertical-align: middle;\n",
       "    }\n",
       "\n",
       "    .dataframe tbody tr th {\n",
       "        vertical-align: top;\n",
       "    }\n",
       "\n",
       "    .dataframe thead th {\n",
       "        text-align: right;\n",
       "    }\n",
       "</style>\n",
       "<table border=\"1\" class=\"dataframe\">\n",
       "  <thead>\n",
       "    <tr style=\"text-align: right;\">\n",
       "      <th></th>\n",
       "      <th>Attrition</th>\n",
       "      <th>Age</th>\n",
       "      <th>Monthly Income</th>\n",
       "      <th>Travel Time</th>\n",
       "      <th>Qualification</th>\n",
       "      <th>Membership</th>\n",
       "      <th>Months</th>\n",
       "      <th>Hours per Week</th>\n",
       "      <th>Gender_Male</th>\n",
       "      <th>Branch_Kranji</th>\n",
       "      <th>Branch_Thomson</th>\n",
       "      <th>Work Domain_Engineering</th>\n",
       "      <th>Work Domain_Information Technology</th>\n",
       "      <th>Work Domain_Medical</th>\n",
       "      <th>Work Domain_Science</th>\n",
       "      <th>Work Domain_Unemployed</th>\n",
       "    </tr>\n",
       "  </thead>\n",
       "  <tbody>\n",
       "    <tr>\n",
       "      <th>0</th>\n",
       "      <td>1</td>\n",
       "      <td>41</td>\n",
       "      <td>5993</td>\n",
       "      <td>12</td>\n",
       "      <td>Diploma</td>\n",
       "      <td>Gold</td>\n",
       "      <td>7</td>\n",
       "      <td>14</td>\n",
       "      <td>0</td>\n",
       "      <td>0</td>\n",
       "      <td>0</td>\n",
       "      <td>1</td>\n",
       "      <td>0</td>\n",
       "      <td>0</td>\n",
       "      <td>0</td>\n",
       "      <td>0</td>\n",
       "    </tr>\n",
       "    <tr>\n",
       "      <th>1</th>\n",
       "      <td>0</td>\n",
       "      <td>49</td>\n",
       "      <td>5130</td>\n",
       "      <td>42</td>\n",
       "      <td>Diploma</td>\n",
       "      <td>Normal</td>\n",
       "      <td>11</td>\n",
       "      <td>6</td>\n",
       "      <td>1</td>\n",
       "      <td>0</td>\n",
       "      <td>1</td>\n",
       "      <td>1</td>\n",
       "      <td>0</td>\n",
       "      <td>0</td>\n",
       "      <td>0</td>\n",
       "      <td>0</td>\n",
       "    </tr>\n",
       "    <tr>\n",
       "      <th>2</th>\n",
       "      <td>1</td>\n",
       "      <td>37</td>\n",
       "      <td>2090</td>\n",
       "      <td>20</td>\n",
       "      <td>Diploma</td>\n",
       "      <td>Normal</td>\n",
       "      <td>1</td>\n",
       "      <td>8</td>\n",
       "      <td>1</td>\n",
       "      <td>0</td>\n",
       "      <td>1</td>\n",
       "      <td>0</td>\n",
       "      <td>0</td>\n",
       "      <td>1</td>\n",
       "      <td>0</td>\n",
       "      <td>0</td>\n",
       "    </tr>\n",
       "    <tr>\n",
       "      <th>3</th>\n",
       "      <td>0</td>\n",
       "      <td>33</td>\n",
       "      <td>2909</td>\n",
       "      <td>20</td>\n",
       "      <td>Master</td>\n",
       "      <td>Normal</td>\n",
       "      <td>9</td>\n",
       "      <td>0</td>\n",
       "      <td>0</td>\n",
       "      <td>0</td>\n",
       "      <td>1</td>\n",
       "      <td>1</td>\n",
       "      <td>0</td>\n",
       "      <td>0</td>\n",
       "      <td>0</td>\n",
       "      <td>0</td>\n",
       "    </tr>\n",
       "    <tr>\n",
       "      <th>4</th>\n",
       "      <td>0</td>\n",
       "      <td>27</td>\n",
       "      <td>3468</td>\n",
       "      <td>18</td>\n",
       "      <td>Diploma</td>\n",
       "      <td>Normal</td>\n",
       "      <td>3</td>\n",
       "      <td>15</td>\n",
       "      <td>1</td>\n",
       "      <td>0</td>\n",
       "      <td>1</td>\n",
       "      <td>0</td>\n",
       "      <td>1</td>\n",
       "      <td>0</td>\n",
       "      <td>0</td>\n",
       "      <td>0</td>\n",
       "    </tr>\n",
       "    <tr>\n",
       "      <th>...</th>\n",
       "      <td>...</td>\n",
       "      <td>...</td>\n",
       "      <td>...</td>\n",
       "      <td>...</td>\n",
       "      <td>...</td>\n",
       "      <td>...</td>\n",
       "      <td>...</td>\n",
       "      <td>...</td>\n",
       "      <td>...</td>\n",
       "      <td>...</td>\n",
       "      <td>...</td>\n",
       "      <td>...</td>\n",
       "      <td>...</td>\n",
       "      <td>...</td>\n",
       "      <td>...</td>\n",
       "      <td>...</td>\n",
       "    </tr>\n",
       "    <tr>\n",
       "      <th>2465</th>\n",
       "      <td>0</td>\n",
       "      <td>55</td>\n",
       "      <td>7168</td>\n",
       "      <td>24</td>\n",
       "      <td>Master</td>\n",
       "      <td>Bronze</td>\n",
       "      <td>10</td>\n",
       "      <td>15</td>\n",
       "      <td>1</td>\n",
       "      <td>0</td>\n",
       "      <td>0</td>\n",
       "      <td>0</td>\n",
       "      <td>0</td>\n",
       "      <td>1</td>\n",
       "      <td>0</td>\n",
       "      <td>0</td>\n",
       "    </tr>\n",
       "    <tr>\n",
       "      <th>2466</th>\n",
       "      <td>1</td>\n",
       "      <td>28</td>\n",
       "      <td>9138</td>\n",
       "      <td>53</td>\n",
       "      <td>Diploma</td>\n",
       "      <td>Normal</td>\n",
       "      <td>11</td>\n",
       "      <td>9</td>\n",
       "      <td>1</td>\n",
       "      <td>0</td>\n",
       "      <td>0</td>\n",
       "      <td>1</td>\n",
       "      <td>0</td>\n",
       "      <td>0</td>\n",
       "      <td>0</td>\n",
       "      <td>0</td>\n",
       "    </tr>\n",
       "    <tr>\n",
       "      <th>2467</th>\n",
       "      <td>0</td>\n",
       "      <td>55</td>\n",
       "      <td>11845</td>\n",
       "      <td>30</td>\n",
       "      <td>Master</td>\n",
       "      <td>Normal</td>\n",
       "      <td>4</td>\n",
       "      <td>15</td>\n",
       "      <td>1</td>\n",
       "      <td>0</td>\n",
       "      <td>1</td>\n",
       "      <td>1</td>\n",
       "      <td>0</td>\n",
       "      <td>0</td>\n",
       "      <td>0</td>\n",
       "      <td>0</td>\n",
       "    </tr>\n",
       "    <tr>\n",
       "      <th>2468</th>\n",
       "      <td>0</td>\n",
       "      <td>42</td>\n",
       "      <td>12579</td>\n",
       "      <td>31</td>\n",
       "      <td>Bachelor</td>\n",
       "      <td>Silver</td>\n",
       "      <td>5</td>\n",
       "      <td>2</td>\n",
       "      <td>0</td>\n",
       "      <td>0</td>\n",
       "      <td>0</td>\n",
       "      <td>0</td>\n",
       "      <td>0</td>\n",
       "      <td>0</td>\n",
       "      <td>0</td>\n",
       "      <td>0</td>\n",
       "    </tr>\n",
       "    <tr>\n",
       "      <th>2469</th>\n",
       "      <td>1</td>\n",
       "      <td>36</td>\n",
       "      <td>3938</td>\n",
       "      <td>21</td>\n",
       "      <td>Bachelor</td>\n",
       "      <td>Silver</td>\n",
       "      <td>33</td>\n",
       "      <td>9</td>\n",
       "      <td>0</td>\n",
       "      <td>1</td>\n",
       "      <td>0</td>\n",
       "      <td>0</td>\n",
       "      <td>0</td>\n",
       "      <td>0</td>\n",
       "      <td>1</td>\n",
       "      <td>0</td>\n",
       "    </tr>\n",
       "  </tbody>\n",
       "</table>\n",
       "<p>2470 rows × 16 columns</p>\n",
       "</div>"
      ],
      "text/plain": [
       "      Attrition  Age  Monthly Income  Travel Time Qualification Membership  \\\n",
       "0             1   41            5993           12       Diploma       Gold   \n",
       "1             0   49            5130           42       Diploma     Normal   \n",
       "2             1   37            2090           20       Diploma     Normal   \n",
       "3             0   33            2909           20        Master     Normal   \n",
       "4             0   27            3468           18       Diploma     Normal   \n",
       "...         ...  ...             ...          ...           ...        ...   \n",
       "2465          0   55            7168           24        Master     Bronze   \n",
       "2466          1   28            9138           53       Diploma     Normal   \n",
       "2467          0   55           11845           30        Master     Normal   \n",
       "2468          0   42           12579           31      Bachelor     Silver   \n",
       "2469          1   36            3938           21      Bachelor     Silver   \n",
       "\n",
       "      Months  Hours per Week  Gender_Male  Branch_Kranji  Branch_Thomson  \\\n",
       "0          7              14            0              0               0   \n",
       "1         11               6            1              0               1   \n",
       "2          1               8            1              0               1   \n",
       "3          9               0            0              0               1   \n",
       "4          3              15            1              0               1   \n",
       "...      ...             ...          ...            ...             ...   \n",
       "2465      10              15            1              0               0   \n",
       "2466      11               9            1              0               0   \n",
       "2467       4              15            1              0               1   \n",
       "2468       5               2            0              0               0   \n",
       "2469      33               9            0              1               0   \n",
       "\n",
       "      Work Domain_Engineering  Work Domain_Information Technology  \\\n",
       "0                           1                                   0   \n",
       "1                           1                                   0   \n",
       "2                           0                                   0   \n",
       "3                           1                                   0   \n",
       "4                           0                                   1   \n",
       "...                       ...                                 ...   \n",
       "2465                        0                                   0   \n",
       "2466                        1                                   0   \n",
       "2467                        1                                   0   \n",
       "2468                        0                                   0   \n",
       "2469                        0                                   0   \n",
       "\n",
       "      Work Domain_Medical  Work Domain_Science  Work Domain_Unemployed  \n",
       "0                       0                    0                       0  \n",
       "1                       0                    0                       0  \n",
       "2                       1                    0                       0  \n",
       "3                       0                    0                       0  \n",
       "4                       0                    0                       0  \n",
       "...                   ...                  ...                     ...  \n",
       "2465                    1                    0                       0  \n",
       "2466                    0                    0                       0  \n",
       "2467                    0                    0                       0  \n",
       "2468                    0                    0                       0  \n",
       "2469                    0                    1                       0  \n",
       "\n",
       "[2470 rows x 16 columns]"
      ]
     },
     "execution_count": 17,
     "metadata": {},
     "output_type": "execute_result"
    }
   ],
   "source": [
    "df"
   ]
  },
  {
   "cell_type": "markdown",
   "metadata": {},
   "source": [
    "### 3.2 Cateogorical Columns with order: Qualification, Membership"
   ]
  },
  {
   "cell_type": "code",
   "execution_count": 18,
   "metadata": {},
   "outputs": [],
   "source": [
    "from sklearn.preprocessing import OrdinalEncoder"
   ]
  },
  {
   "cell_type": "code",
   "execution_count": 19,
   "metadata": {},
   "outputs": [],
   "source": [
    "Qua_cat=['Diploma','Bachelor','Master','Ph.D']\n",
    "Qua_enc = OrdinalEncoder(categories = [Qua_cat])\n",
    "df[['Qualification']] = Qua_enc.fit_transform(df[['Qualification']])\n",
    "\n",
    "Mem_cat=['Normal','Bronze','Silver','Gold']\n",
    "Mem_enc = OrdinalEncoder(categories = [Mem_cat])\n",
    "df[['Membership']] = Mem_enc.fit_transform(df[['Membership']])"
   ]
  },
  {
   "cell_type": "code",
   "execution_count": 20,
   "metadata": {},
   "outputs": [
    {
     "data": {
      "text/plain": [
       "[array(['Diploma', 'Bachelor', 'Master', 'Ph.D'], dtype=object)]"
      ]
     },
     "execution_count": 20,
     "metadata": {},
     "output_type": "execute_result"
    }
   ],
   "source": [
    "Qua_enc.categories_"
   ]
  },
  {
   "cell_type": "code",
   "execution_count": 21,
   "metadata": {},
   "outputs": [
    {
     "data": {
      "text/plain": [
       "[array(['Normal', 'Bronze', 'Silver', 'Gold'], dtype=object)]"
      ]
     },
     "execution_count": 21,
     "metadata": {},
     "output_type": "execute_result"
    }
   ],
   "source": [
    "Mem_enc.categories_"
   ]
  },
  {
   "cell_type": "code",
   "execution_count": 22,
   "metadata": {},
   "outputs": [
    {
     "name": "stdout",
     "output_type": "stream",
     "text": [
      "<class 'pandas.core.frame.DataFrame'>\n",
      "RangeIndex: 2470 entries, 0 to 2469\n",
      "Data columns (total 16 columns):\n",
      " #   Column                              Non-Null Count  Dtype  \n",
      "---  ------                              --------------  -----  \n",
      " 0   Attrition                           2470 non-null   int64  \n",
      " 1   Age                                 2470 non-null   int64  \n",
      " 2   Monthly Income                      2470 non-null   int64  \n",
      " 3   Travel Time                         2470 non-null   int64  \n",
      " 4   Qualification                       2470 non-null   float64\n",
      " 5   Membership                          2470 non-null   float64\n",
      " 6   Months                              2470 non-null   int64  \n",
      " 7   Hours per Week                      2470 non-null   int64  \n",
      " 8   Gender_Male                         2470 non-null   uint8  \n",
      " 9   Branch_Kranji                       2470 non-null   uint8  \n",
      " 10  Branch_Thomson                      2470 non-null   uint8  \n",
      " 11  Work Domain_Engineering             2470 non-null   uint8  \n",
      " 12  Work Domain_Information Technology  2470 non-null   uint8  \n",
      " 13  Work Domain_Medical                 2470 non-null   uint8  \n",
      " 14  Work Domain_Science                 2470 non-null   uint8  \n",
      " 15  Work Domain_Unemployed              2470 non-null   uint8  \n",
      "dtypes: float64(2), int64(6), uint8(8)\n",
      "memory usage: 173.8 KB\n"
     ]
    }
   ],
   "source": [
    "df.info()"
   ]
  },
  {
   "cell_type": "markdown",
   "metadata": {},
   "source": [
    "## Step 4. Feature Scaling of numerical columns"
   ]
  },
  {
   "cell_type": "code",
   "execution_count": 23,
   "metadata": {},
   "outputs": [
    {
     "data": {
      "text/plain": [
       "Index(['Attrition', 'Age', 'Monthly Income', 'Travel Time', 'Qualification',\n",
       "       'Membership', 'Months', 'Hours per Week', 'Gender_Male',\n",
       "       'Branch_Kranji', 'Branch_Thomson', 'Work Domain_Engineering',\n",
       "       'Work Domain_Information Technology', 'Work Domain_Medical',\n",
       "       'Work Domain_Science', 'Work Domain_Unemployed'],\n",
       "      dtype='object')"
      ]
     },
     "execution_count": 23,
     "metadata": {},
     "output_type": "execute_result"
    }
   ],
   "source": [
    "from sklearn.preprocessing import StandardScaler\n",
    "df.columns"
   ]
  },
  {
   "cell_type": "code",
   "execution_count": 24,
   "metadata": {},
   "outputs": [],
   "source": [
    "num_attribs=['Age', 'Monthly Income', 'Travel Time', 'Months', 'Hours per Week']\n",
    "scaler = StandardScaler()\n",
    "df[num_attribs]=scaler.fit_transform(df[num_attribs])"
   ]
  },
  {
   "cell_type": "markdown",
   "metadata": {},
   "source": [
    "# Train Test Split"
   ]
  },
  {
   "cell_type": "code",
   "execution_count": 27,
   "metadata": {},
   "outputs": [],
   "source": [
    "X=df.drop('Attrition',axis=1)\n",
    "y=df['Attrition']\n",
    "from sklearn.model_selection import train_test_split\n",
    "X_train, X_test, y_train, y_test = train_test_split(X, y, test_size=0.3, random_state=0)\n",
    "from imblearn.over_sampling import SMOTE\n",
    "sm = SMOTE(random_state=42)\n",
    "X_res, y_res = sm.fit_resample(X_train, y_train)"
   ]
  },
  {
   "cell_type": "markdown",
   "metadata": {},
   "source": [
    "# Train models"
   ]
  },
  {
   "cell_type": "markdown",
   "metadata": {},
   "source": [
    "## 1. Logistic Model"
   ]
  },
  {
   "cell_type": "code",
   "execution_count": 29,
   "metadata": {},
   "outputs": [],
   "source": [
    "from sklearn.linear_model import LogisticRegression\n",
    "logr = LogisticRegression()\n",
    "logr.fit(X_res,y_res)\n",
    "logr_prediction=logr.predict(X_test)"
   ]
  },
  {
   "cell_type": "code",
   "execution_count": 31,
   "metadata": {},
   "outputs": [
    {
     "name": "stdout",
     "output_type": "stream",
     "text": [
      "              precision    recall  f1-score   support\n",
      "\n",
      "           0       0.84      0.71      0.77       609\n",
      "           1       0.22      0.38      0.28       132\n",
      "\n",
      "    accuracy                           0.65       741\n",
      "   macro avg       0.53      0.54      0.52       741\n",
      "weighted avg       0.73      0.65      0.68       741\n",
      "\n"
     ]
    }
   ],
   "source": [
    "from sklearn.metrics import classification_report\n",
    "print(classification_report(y_test,logr_prediction))"
   ]
  },
  {
   "cell_type": "markdown",
   "metadata": {},
   "source": [
    "##  2. Random Forest Model"
   ]
  },
  {
   "cell_type": "code",
   "execution_count": 33,
   "metadata": {},
   "outputs": [
    {
     "name": "stdout",
     "output_type": "stream",
     "text": [
      "              precision    recall  f1-score   support\n",
      "\n",
      "           0       0.84      0.91      0.87       609\n",
      "           1       0.34      0.22      0.27       132\n",
      "\n",
      "    accuracy                           0.79       741\n",
      "   macro avg       0.59      0.56      0.57       741\n",
      "weighted avg       0.75      0.79      0.77       741\n",
      "\n"
     ]
    }
   ],
   "source": [
    "from sklearn.ensemble import RandomForestClassifier\n",
    "rfc = RandomForestClassifier(n_estimators=600)\n",
    "rfc.fit(X_res,y_res)\n",
    "rfc_predictions = rfc.predict(X_test)\n",
    "print(classification_report(y_test,rfc_predictions))"
   ]
  },
  {
   "cell_type": "code",
   "execution_count": 34,
   "metadata": {},
   "outputs": [
    {
     "data": {
      "text/plain": [
       "GridSearchCV(cv=5, estimator=RandomForestClassifier(),\n",
       "             param_grid=[{'max_features': [4, 6, 8, 10],\n",
       "                          'n_estimators': [200, 400, 600, 800]}],\n",
       "             return_train_score=True, scoring='f1_micro')"
      ]
     },
     "execution_count": 34,
     "metadata": {},
     "output_type": "execute_result"
    }
   ],
   "source": [
    "from sklearn.model_selection import GridSearchCV\n",
    "param_grid=[\n",
    "    {\n",
    "        'n_estimators': [200,400,600,800],\n",
    "        'max_features':[4,6,8,10]\n",
    "    }\n",
    "]\n",
    "gs_rfc=RandomForestClassifier()\n",
    "grid_search=GridSearchCV(gs_rfc, param_grid, cv=5,scoring='f1_micro',return_train_score=True)\n",
    "grid_search.fit(X_res,y_res)"
   ]
  },
  {
   "cell_type": "code",
   "execution_count": null,
   "metadata": {},
   "outputs": [],
   "source": [
    "final_model=grid_search.best_estimator_\n",
    "final_prediction=final_model.predict(X_test)\n",
    "print(classification_report(y_test,final_prediction))"
   ]
  },
  {
   "cell_type": "markdown",
   "metadata": {},
   "source": [
    "## 3. LightGBM Model"
   ]
  },
  {
   "cell_type": "code",
   "execution_count": null,
   "metadata": {},
   "outputs": [],
   "source": [
    "import lightgbm as lgb\n",
    "clf = lgb.LGBMClassifier()\n",
    "clf.fit(X_res, y_res)\n",
    "lgb_predictions=clf.predict(X_test)\n",
    "print(classification_report(y_test,lgb_predictions))"
   ]
  },
  {
   "cell_type": "markdown",
   "metadata": {},
   "source": [
    "## 4. SGDClassifier Model"
   ]
  },
  {
   "cell_type": "code",
   "execution_count": null,
   "metadata": {},
   "outputs": [],
   "source": [
    "from sklearn.linear_model import SGDClassifier\n",
    "sgd_clf=SGDClassifier(random_state=42)\n",
    "sgd_clf.fit(X_res,y_res)\n",
    "sgd_predictions=clf.predict(X_test)\n",
    "print(classification_report(y_test,sgd_predictions))"
   ]
  },
  {
   "cell_type": "code",
   "execution_count": null,
   "metadata": {},
   "outputs": [],
   "source": []
  }
 ],
 "metadata": {
  "kernelspec": {
   "display_name": "Python 3",
   "language": "python",
   "name": "python3"
  },
  "language_info": {
   "codemirror_mode": {
    "name": "ipython",
    "version": 3
   },
   "file_extension": ".py",
   "mimetype": "text/x-python",
   "name": "python",
   "nbconvert_exporter": "python",
   "pygments_lexer": "ipython3",
   "version": "3.7.6"
  }
 },
 "nbformat": 4,
 "nbformat_minor": 4
}
