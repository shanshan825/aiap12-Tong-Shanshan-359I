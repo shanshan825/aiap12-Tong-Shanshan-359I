{
 "cells": [
  {
   "cell_type": "markdown",
   "metadata": {},
   "source": [
    "# Step 1. Download and view the data"
   ]
  },
  {
   "cell_type": "code",
   "execution_count": 1,
   "metadata": {},
   "outputs": [],
   "source": [
    "import numpy as np\n",
    "import seaborn as sns\n",
    "import matplotlib.pyplot as plt\n",
    "import pandas as pd\n",
    "import sqlite3\n",
    "%matplotlib inline"
   ]
  },
  {
   "cell_type": "code",
   "execution_count": 2,
   "metadata": {},
   "outputs": [],
   "source": [
    "#Create a connection to database\n",
    "con=sqlite3.connect('Data/attrition.db')"
   ]
  },
  {
   "cell_type": "code",
   "execution_count": 3,
   "metadata": {},
   "outputs": [
    {
     "name": "stdout",
     "output_type": "stream",
     "text": [
      "[('attrition',), ('projects',)]\n"
     ]
    }
   ],
   "source": [
    "# Get the table names in Database\n",
    "def sql_fetch(con):\n",
    "    cursorObj = con.cursor()\n",
    "    cursorObj.execute('SELECT name from sqlite_master where type= \"table\"')\n",
    "    print(cursorObj.fetchall())\n",
    "sql_fetch(con)"
   ]
  },
  {
   "cell_type": "code",
   "execution_count": 4,
   "metadata": {},
   "outputs": [],
   "source": [
    "# Read the data\n",
    "df = pd.read_sql_query(\"SELECT * FROM attrition\", con)"
   ]
  },
  {
   "cell_type": "code",
   "execution_count": 5,
   "metadata": {},
   "outputs": [
    {
     "data": {
      "text/html": [
       "<div>\n",
       "<style scoped>\n",
       "    .dataframe tbody tr th:only-of-type {\n",
       "        vertical-align: middle;\n",
       "    }\n",
       "\n",
       "    .dataframe tbody tr th {\n",
       "        vertical-align: top;\n",
       "    }\n",
       "\n",
       "    .dataframe thead th {\n",
       "        text-align: right;\n",
       "    }\n",
       "</style>\n",
       "<table border=\"1\" class=\"dataframe\">\n",
       "  <thead>\n",
       "    <tr style=\"text-align: right;\">\n",
       "      <th></th>\n",
       "      <th>Member Unique ID</th>\n",
       "      <th>Attrition</th>\n",
       "      <th>Age</th>\n",
       "      <th>Gender</th>\n",
       "      <th>Monthly Income</th>\n",
       "      <th>Travel Time</th>\n",
       "      <th>Qualification</th>\n",
       "      <th>Work Domain</th>\n",
       "      <th>Usage Rate</th>\n",
       "      <th>Branch</th>\n",
       "      <th>Membership</th>\n",
       "      <th>Months</th>\n",
       "      <th>Birth Year</th>\n",
       "      <th>Usage Time</th>\n",
       "    </tr>\n",
       "  </thead>\n",
       "  <tbody>\n",
       "    <tr>\n",
       "      <th>0</th>\n",
       "      <td>1d172e75-2c13-4b73-a1da-18d442a10bf7</td>\n",
       "      <td>1</td>\n",
       "      <td>41</td>\n",
       "      <td>Female</td>\n",
       "      <td>5993</td>\n",
       "      <td>0.2 hours</td>\n",
       "      <td>Diploma</td>\n",
       "      <td>Engineering</td>\n",
       "      <td>2</td>\n",
       "      <td>Changi</td>\n",
       "      <td>Gold</td>\n",
       "      <td>7</td>\n",
       "      <td>1981</td>\n",
       "      <td>7</td>\n",
       "    </tr>\n",
       "    <tr>\n",
       "      <th>1</th>\n",
       "      <td>6dee0995-9ff1-44a6-b3f1-fc5f7270c8ab</td>\n",
       "      <td>0</td>\n",
       "      <td>49</td>\n",
       "      <td>Male</td>\n",
       "      <td>5130</td>\n",
       "      <td>0.7 hours</td>\n",
       "      <td>Diploma</td>\n",
       "      <td>Engineering</td>\n",
       "      <td>3</td>\n",
       "      <td>Thomson</td>\n",
       "      <td>Normal</td>\n",
       "      <td>11</td>\n",
       "      <td>1973</td>\n",
       "      <td>2</td>\n",
       "    </tr>\n",
       "    <tr>\n",
       "      <th>2</th>\n",
       "      <td>c9fff882-42e7-4e12-88ab-74aba95113dc</td>\n",
       "      <td>1</td>\n",
       "      <td>37</td>\n",
       "      <td>Male</td>\n",
       "      <td>2090</td>\n",
       "      <td>20.0 mins</td>\n",
       "      <td>Diploma</td>\n",
       "      <td>Medical</td>\n",
       "      <td>4</td>\n",
       "      <td>Thomson</td>\n",
       "      <td>Normal</td>\n",
       "      <td>1</td>\n",
       "      <td>1985</td>\n",
       "      <td>2</td>\n",
       "    </tr>\n",
       "    <tr>\n",
       "      <th>3</th>\n",
       "      <td>1521db93-82d8-46a8-9718-6acde2a7c001</td>\n",
       "      <td>0</td>\n",
       "      <td>33</td>\n",
       "      <td>Female</td>\n",
       "      <td>2909</td>\n",
       "      <td>20.0 mins</td>\n",
       "      <td>Master</td>\n",
       "      <td>Engineering</td>\n",
       "      <td>4</td>\n",
       "      <td>Thomson</td>\n",
       "      <td>Normal</td>\n",
       "      <td>9</td>\n",
       "      <td>1989</td>\n",
       "      <td>0</td>\n",
       "    </tr>\n",
       "    <tr>\n",
       "      <th>4</th>\n",
       "      <td>e8a69be8-c96a-4f37-b14c-b3c75aa32db3</td>\n",
       "      <td>0</td>\n",
       "      <td>27</td>\n",
       "      <td>Male</td>\n",
       "      <td>3468</td>\n",
       "      <td>0.3 hours</td>\n",
       "      <td>Diploma</td>\n",
       "      <td>Information Technology</td>\n",
       "      <td>1</td>\n",
       "      <td>Thomson</td>\n",
       "      <td>Normal</td>\n",
       "      <td>3</td>\n",
       "      <td>1995</td>\n",
       "      <td>15</td>\n",
       "    </tr>\n",
       "  </tbody>\n",
       "</table>\n",
       "</div>"
      ],
      "text/plain": [
       "                       Member Unique ID  Attrition  Age  Gender  \\\n",
       "0  1d172e75-2c13-4b73-a1da-18d442a10bf7          1   41  Female   \n",
       "1  6dee0995-9ff1-44a6-b3f1-fc5f7270c8ab          0   49    Male   \n",
       "2  c9fff882-42e7-4e12-88ab-74aba95113dc          1   37    Male   \n",
       "3  1521db93-82d8-46a8-9718-6acde2a7c001          0   33  Female   \n",
       "4  e8a69be8-c96a-4f37-b14c-b3c75aa32db3          0   27    Male   \n",
       "\n",
       "   Monthly Income Travel Time Qualification             Work Domain  \\\n",
       "0            5993   0.2 hours       Diploma             Engineering   \n",
       "1            5130   0.7 hours       Diploma             Engineering   \n",
       "2            2090   20.0 mins       Diploma                 Medical   \n",
       "3            2909   20.0 mins        Master             Engineering   \n",
       "4            3468   0.3 hours       Diploma  Information Technology   \n",
       "\n",
       "   Usage Rate   Branch Membership  Months  Birth Year  Usage Time  \n",
       "0           2   Changi       Gold       7        1981           7  \n",
       "1           3  Thomson     Normal      11        1973           2  \n",
       "2           4  Thomson     Normal       1        1985           2  \n",
       "3           4  Thomson     Normal       9        1989           0  \n",
       "4           1  Thomson     Normal       3        1995          15  "
      ]
     },
     "execution_count": 5,
     "metadata": {},
     "output_type": "execute_result"
    }
   ],
   "source": [
    "df.head()"
   ]
  },
  {
   "cell_type": "code",
   "execution_count": 6,
   "metadata": {},
   "outputs": [
    {
     "name": "stdout",
     "output_type": "stream",
     "text": [
      "<class 'pandas.core.frame.DataFrame'>\n",
      "RangeIndex: 2470 entries, 0 to 2469\n",
      "Data columns (total 14 columns):\n",
      " #   Column            Non-Null Count  Dtype \n",
      "---  ------            --------------  ----- \n",
      " 0   Member Unique ID  2470 non-null   object\n",
      " 1   Attrition         2470 non-null   int64 \n",
      " 2   Age               2470 non-null   int64 \n",
      " 3   Gender            2470 non-null   object\n",
      " 4   Monthly Income    2470 non-null   int64 \n",
      " 5   Travel Time       2470 non-null   object\n",
      " 6   Qualification     2470 non-null   object\n",
      " 7   Work Domain       2470 non-null   object\n",
      " 8   Usage Rate        2470 non-null   int64 \n",
      " 9   Branch            2470 non-null   object\n",
      " 10  Membership        2470 non-null   object\n",
      " 11  Months            2470 non-null   int64 \n",
      " 12  Birth Year        2470 non-null   int64 \n",
      " 13  Usage Time        2470 non-null   int64 \n",
      "dtypes: int64(7), object(7)\n",
      "memory usage: 270.3+ KB\n"
     ]
    }
   ],
   "source": [
    "df.info()"
   ]
  },
  {
   "cell_type": "code",
   "execution_count": 7,
   "metadata": {},
   "outputs": [
    {
     "data": {
      "text/html": [
       "<div>\n",
       "<style scoped>\n",
       "    .dataframe tbody tr th:only-of-type {\n",
       "        vertical-align: middle;\n",
       "    }\n",
       "\n",
       "    .dataframe tbody tr th {\n",
       "        vertical-align: top;\n",
       "    }\n",
       "\n",
       "    .dataframe thead th {\n",
       "        text-align: right;\n",
       "    }\n",
       "</style>\n",
       "<table border=\"1\" class=\"dataframe\">\n",
       "  <thead>\n",
       "    <tr style=\"text-align: right;\">\n",
       "      <th></th>\n",
       "      <th>Attrition</th>\n",
       "      <th>Age</th>\n",
       "      <th>Monthly Income</th>\n",
       "      <th>Usage Rate</th>\n",
       "      <th>Months</th>\n",
       "      <th>Birth Year</th>\n",
       "      <th>Usage Time</th>\n",
       "    </tr>\n",
       "  </thead>\n",
       "  <tbody>\n",
       "    <tr>\n",
       "      <th>count</th>\n",
       "      <td>2470.000000</td>\n",
       "      <td>2470.000000</td>\n",
       "      <td>2470.000000</td>\n",
       "      <td>2470.000000</td>\n",
       "      <td>2470.000000</td>\n",
       "      <td>2470.000000</td>\n",
       "      <td>2470.000000</td>\n",
       "    </tr>\n",
       "    <tr>\n",
       "      <th>mean</th>\n",
       "      <td>0.169636</td>\n",
       "      <td>35.970850</td>\n",
       "      <td>5143.199595</td>\n",
       "      <td>2.780972</td>\n",
       "      <td>10.634413</td>\n",
       "      <td>1734.040486</td>\n",
       "      <td>4.846964</td>\n",
       "    </tr>\n",
       "    <tr>\n",
       "      <th>std</th>\n",
       "      <td>0.375388</td>\n",
       "      <td>16.757217</td>\n",
       "      <td>6542.273046</td>\n",
       "      <td>1.033757</td>\n",
       "      <td>9.225734</td>\n",
       "      <td>655.077597</td>\n",
       "      <td>3.925911</td>\n",
       "    </tr>\n",
       "    <tr>\n",
       "      <th>min</th>\n",
       "      <td>0.000000</td>\n",
       "      <td>-1.000000</td>\n",
       "      <td>-24620.000000</td>\n",
       "      <td>1.000000</td>\n",
       "      <td>0.000000</td>\n",
       "      <td>-1.000000</td>\n",
       "      <td>0.000000</td>\n",
       "    </tr>\n",
       "    <tr>\n",
       "      <th>25%</th>\n",
       "      <td>0.000000</td>\n",
       "      <td>29.000000</td>\n",
       "      <td>2610.000000</td>\n",
       "      <td>2.000000</td>\n",
       "      <td>5.000000</td>\n",
       "      <td>1969.000000</td>\n",
       "      <td>2.000000</td>\n",
       "    </tr>\n",
       "    <tr>\n",
       "      <th>50%</th>\n",
       "      <td>0.000000</td>\n",
       "      <td>38.000000</td>\n",
       "      <td>4785.000000</td>\n",
       "      <td>3.000000</td>\n",
       "      <td>8.000000</td>\n",
       "      <td>1980.000000</td>\n",
       "      <td>4.000000</td>\n",
       "    </tr>\n",
       "    <tr>\n",
       "      <th>75%</th>\n",
       "      <td>0.000000</td>\n",
       "      <td>48.000000</td>\n",
       "      <td>7981.750000</td>\n",
       "      <td>4.000000</td>\n",
       "      <td>13.000000</td>\n",
       "      <td>1988.000000</td>\n",
       "      <td>6.000000</td>\n",
       "    </tr>\n",
       "    <tr>\n",
       "      <th>max</th>\n",
       "      <td>1.000000</td>\n",
       "      <td>69.000000</td>\n",
       "      <td>25326.000000</td>\n",
       "      <td>4.000000</td>\n",
       "      <td>57.000000</td>\n",
       "      <td>2004.000000</td>\n",
       "      <td>20.000000</td>\n",
       "    </tr>\n",
       "  </tbody>\n",
       "</table>\n",
       "</div>"
      ],
      "text/plain": [
       "         Attrition          Age  Monthly Income   Usage Rate       Months  \\\n",
       "count  2470.000000  2470.000000     2470.000000  2470.000000  2470.000000   \n",
       "mean      0.169636    35.970850     5143.199595     2.780972    10.634413   \n",
       "std       0.375388    16.757217     6542.273046     1.033757     9.225734   \n",
       "min       0.000000    -1.000000   -24620.000000     1.000000     0.000000   \n",
       "25%       0.000000    29.000000     2610.000000     2.000000     5.000000   \n",
       "50%       0.000000    38.000000     4785.000000     3.000000     8.000000   \n",
       "75%       0.000000    48.000000     7981.750000     4.000000    13.000000   \n",
       "max       1.000000    69.000000    25326.000000     4.000000    57.000000   \n",
       "\n",
       "        Birth Year   Usage Time  \n",
       "count  2470.000000  2470.000000  \n",
       "mean   1734.040486     4.846964  \n",
       "std     655.077597     3.925911  \n",
       "min      -1.000000     0.000000  \n",
       "25%    1969.000000     2.000000  \n",
       "50%    1980.000000     4.000000  \n",
       "75%    1988.000000     6.000000  \n",
       "max    2004.000000    20.000000  "
      ]
     },
     "execution_count": 7,
     "metadata": {},
     "output_type": "execute_result"
    }
   ],
   "source": [
    "df.describe()"
   ]
  },
  {
   "cell_type": "code",
   "execution_count": 8,
   "metadata": {},
   "outputs": [
    {
     "data": {
      "text/plain": [
       "<matplotlib.axes._subplots.AxesSubplot at 0x1e439b7c3c8>"
      ]
     },
     "execution_count": 8,
     "metadata": {},
     "output_type": "execute_result"
    },
    {
     "data": {
      "image/png": "[encoded data removed]",
      "text/plain": [
       "<Figure size 432x288 with 1 Axes>"
      ]
     },
     "metadata": {
      "needs_background": "light"
     },
     "output_type": "display_data"
    }
   ],
   "source": [
    "# Check the Attrition values\n",
    "sns.countplot(df['Attrition'])"
   ]
  },
  {
   "cell_type": "code",
   "execution_count": 9,
   "metadata": {},
   "outputs": [
    {
     "data": {
      "text/plain": [
       "<matplotlib.axes._subplots.AxesSubplot at 0x1e43be21848>"
      ]
     },
     "execution_count": 9,
     "metadata": {},
     "output_type": "execute_result"
    },
    {
     "data": {
      "image/png": "[encoded data removed]",
      "text/plain": [
       "<Figure size 432x288 with 2 Axes>"
      ]
     },
     "metadata": {
      "needs_background": "light"
     },
     "output_type": "display_data"
    }
   ],
   "source": [
    "sns.heatmap(df.corr(),cmap='viridis',annot=True)"
   ]
  },
  {
   "cell_type": "markdown",
   "metadata": {},
   "source": [
    "# Step 2. Preprocess the Data"
   ]
  },
  {
   "cell_type": "markdown",
   "metadata": {},
   "source": [
    "## 2.1 Deal with the highly correlated columns: 'Usage Rate' and 'Usage Time'"
   ]
  },
  {
   "cell_type": "code",
   "execution_count": 10,
   "metadata": {},
   "outputs": [],
   "source": [
    "# 'Usage Rate' is \"Average number of days in a week visiting the country club\"\n",
    "# 'Usage Time' is \"Average number of hours spent in the country club per visit\""
   ]
  },
  {
   "cell_type": "code",
   "execution_count": 11,
   "metadata": {},
   "outputs": [
    {
     "data": {
      "text/plain": [
       "<matplotlib.axes._subplots.AxesSubplot at 0x1e43bf883c8>"
      ]
     },
     "execution_count": 11,
     "metadata": {},
     "output_type": "execute_result"
    },
    {
     "data": {
      "image/png": "[encoded data removed]",
      "text/plain": [
       "<Figure size 432x288 with 1 Axes>"
      ]
     },
     "metadata": {
      "needs_background": "light"
     },
     "output_type": "display_data"
    }
   ],
   "source": [
    "sns.boxplot(x='Usage Rate', y='Usage Time',data= df, hue='Attrition')"
   ]
  },
  {
   "cell_type": "code",
   "execution_count": 12,
   "metadata": {},
   "outputs": [
    {
     "data": {
      "text/plain": [
       "Usage Rate\n",
       "1    0.230769\n",
       "2    0.152401\n",
       "3    0.169875\n",
       "4    0.147632\n",
       "Name: Attrition, dtype: float64"
      ]
     },
     "execution_count": 12,
     "metadata": {},
     "output_type": "execute_result"
    }
   ],
   "source": [
    "df.groupby('Usage Rate').mean()['Attrition']"
   ]
  },
  {
   "cell_type": "code",
   "execution_count": 13,
   "metadata": {},
   "outputs": [],
   "source": [
    "# I will combine 'Usage Rate' and Usage Time' columns, to generate a new column \"Time Per Week\" (Usage Rate* Usage Time)"
   ]
  },
  {
   "cell_type": "code",
   "execution_count": 14,
   "metadata": {},
   "outputs": [],
   "source": [
    "df['Hours per Week']=df['Usage Time']*df['Usage Rate']"
   ]
  },
  {
   "cell_type": "code",
   "execution_count": 15,
   "metadata": {},
   "outputs": [
    {
     "data": {
      "text/plain": [
       "<matplotlib.axes._subplots.AxesSubplot at 0x1e43c050fc8>"
      ]
     },
     "execution_count": 15,
     "metadata": {},
     "output_type": "execute_result"
    },
    {
     "data": {
      "image/png": "[encoded data removed]",
      "text/plain": [
       "<Figure size 432x288 with 1 Axes>"
      ]
     },
     "metadata": {
      "needs_background": "light"
     },
     "output_type": "display_data"
    }
   ],
   "source": [
    "sns.boxplot(x='Attrition', y='Hours per Week', data=df)"
   ]
  },
  {
   "cell_type": "code",
   "execution_count": 16,
   "metadata": {},
   "outputs": [
    {
     "data": {
      "text/html": [
       "<div>\n",
       "<style scoped>\n",
       "    .dataframe tbody tr th:only-of-type {\n",
       "        vertical-align: middle;\n",
       "    }\n",
       "\n",
       "    .dataframe tbody tr th {\n",
       "        vertical-align: top;\n",
       "    }\n",
       "\n",
       "    .dataframe thead th {\n",
       "        text-align: right;\n",
       "    }\n",
       "</style>\n",
       "<table border=\"1\" class=\"dataframe\">\n",
       "  <thead>\n",
       "    <tr style=\"text-align: right;\">\n",
       "      <th></th>\n",
       "      <th>Age</th>\n",
       "      <th>Monthly Income</th>\n",
       "      <th>Usage Rate</th>\n",
       "      <th>Months</th>\n",
       "      <th>Birth Year</th>\n",
       "      <th>Usage Time</th>\n",
       "      <th>Hours per Week</th>\n",
       "    </tr>\n",
       "    <tr>\n",
       "      <th>Attrition</th>\n",
       "      <th></th>\n",
       "      <th></th>\n",
       "      <th></th>\n",
       "      <th></th>\n",
       "      <th></th>\n",
       "      <th></th>\n",
       "      <th></th>\n",
       "    </tr>\n",
       "  </thead>\n",
       "  <tbody>\n",
       "    <tr>\n",
       "      <th>0</th>\n",
       "      <td>36.292540</td>\n",
       "      <td>5276.349098</td>\n",
       "      <td>2.807899</td>\n",
       "      <td>10.867382</td>\n",
       "      <td>1738.294490</td>\n",
       "      <td>4.964895</td>\n",
       "      <td>11.269625</td>\n",
       "    </tr>\n",
       "    <tr>\n",
       "      <th>1</th>\n",
       "      <td>34.396181</td>\n",
       "      <td>4491.434368</td>\n",
       "      <td>2.649165</td>\n",
       "      <td>9.494033</td>\n",
       "      <td>1713.217184</td>\n",
       "      <td>4.269690</td>\n",
       "      <td>9.286396</td>\n",
       "    </tr>\n",
       "  </tbody>\n",
       "</table>\n",
       "</div>"
      ],
      "text/plain": [
       "                 Age  Monthly Income  Usage Rate     Months   Birth Year  \\\n",
       "Attrition                                                                  \n",
       "0          36.292540     5276.349098    2.807899  10.867382  1738.294490   \n",
       "1          34.396181     4491.434368    2.649165   9.494033  1713.217184   \n",
       "\n",
       "           Usage Time  Hours per Week  \n",
       "Attrition                              \n",
       "0            4.964895       11.269625  \n",
       "1            4.269690        9.286396  "
      ]
     },
     "execution_count": 16,
     "metadata": {},
     "output_type": "execute_result"
    }
   ],
   "source": [
    "df.groupby('Attrition').mean()"
   ]
  },
  {
   "cell_type": "markdown",
   "metadata": {},
   "source": [
    "### Conclusions: \n",
    "1. Customers that go to the club just once a week has evident higher Attrition rate (23%) than those go 2-4 times a week (15%-17%)\n",
    "2. Customers tend to spend less hours per visit if they visit more times per week.\n",
    "3. The customers choose Attrition on average spend 2 hours less per week in the club"
   ]
  },
  {
   "cell_type": "markdown",
   "metadata": {},
   "source": [
    "## 2.2 Convert the 'Travel Time' column with inconsistent units "
   ]
  },
  {
   "cell_type": "code",
   "execution_count": 17,
   "metadata": {},
   "outputs": [
    {
     "data": {
      "text/plain": [
       "0.7 hours                  269\n",
       "0.3 hours                  193\n",
       "0.8 hours                  192\n",
       "0.5 hours                  182\n",
       "40.0 mins                  180\n",
       "                          ... \n",
       "22.19135153941856 mins       1\n",
       "22.59821606032108 mins       1\n",
       "53.75233599748068 mins       1\n",
       "22.130819113071446 mins      1\n",
       "21.88522209192417 mins       1\n",
       "Name: Travel Time, Length: 525, dtype: int64"
      ]
     },
     "execution_count": 17,
     "metadata": {},
     "output_type": "execute_result"
    }
   ],
   "source": [
    "df['Travel Time'].value_counts()"
   ]
  },
  {
   "cell_type": "code",
   "execution_count": 18,
   "metadata": {},
   "outputs": [],
   "source": [
    "# create a function to convert the 'Travel Time' from string with different units to numerical values in mins \n",
    "def cal_travel_time(x):\n",
    "    if x.split()[1]=='mins':\n",
    "        return int(float(x.split()[0]))\n",
    "    else:\n",
    "        return int(float(x.split()[0])*60)"
   ]
  },
  {
   "cell_type": "code",
   "execution_count": 19,
   "metadata": {},
   "outputs": [],
   "source": [
    "# Apply the function cal_travel_time to column\n",
    "df['Travel Time']=df['Travel Time'].apply(lambda x: cal_travel_time(x))"
   ]
  },
  {
   "cell_type": "code",
   "execution_count": 90,
   "metadata": {},
   "outputs": [
    {
     "data": {
      "text/plain": [
       "<matplotlib.axes._subplots.AxesSubplot at 0x1e43e7d0688>"
      ]
     },
     "execution_count": 90,
     "metadata": {},
     "output_type": "execute_result"
    },
    {
     "data": {
      "image/png": "[encoded data removed]",
      "text/plain": [
       "<Figure size 432x288 with 1 Axes>"
      ]
     },
     "metadata": {
      "needs_background": "light"
     },
     "output_type": "display_data"
    }
   ],
   "source": [
    "df[df['Attrition']==0]['Travel Time'].hist(bins=30,label='Attrition 0',color='blue')\n",
    "df[df['Attrition']==1]['Travel Time'].hist(bins=30,label='Attrition 1',color='red')"
   ]
  },
  {
   "cell_type": "code",
   "execution_count": 21,
   "metadata": {},
   "outputs": [
    {
     "data": {
      "text/plain": [
       "Branch\n",
       "Changi     32.251918\n",
       "Kranji     32.812950\n",
       "Thomson    31.943835\n",
       "Name: Travel Time, dtype: float64"
      ]
     },
     "execution_count": 21,
     "metadata": {},
     "output_type": "execute_result"
    }
   ],
   "source": [
    "df.groupby('Branch').mean()['Travel Time']"
   ]
  },
  {
   "cell_type": "code",
   "execution_count": 22,
   "metadata": {},
   "outputs": [],
   "source": [
    "# The 'Travel Time is not continuous, and peak around 10, 20, 30, 40, and 50', will tranform it to categorical data\n",
    "bins = [0, 15, 25, 35, 45, np.inf]\n",
    "names = ['<15', '15-25', '25-35', '35-45', '>45']\n",
    "\n",
    "df['Travel Time_cat'] = pd.cut(df['Travel Time'], bins, labels=names)"
   ]
  },
  {
   "cell_type": "code",
   "execution_count": 23,
   "metadata": {},
   "outputs": [
    {
     "data": {
      "text/plain": [
       "<matplotlib.axes._subplots.AxesSubplot at 0x1e439cf4348>"
      ]
     },
     "execution_count": 23,
     "metadata": {},
     "output_type": "execute_result"
    },
    {
     "data": {
      "image/png": "[encoded data removed]",
      "text/plain": [
       "<Figure size 432x288 with 1 Axes>"
      ]
     },
     "metadata": {
      "needs_background": "light"
     },
     "output_type": "display_data"
    }
   ],
   "source": [
    "sns.countplot(x='Travel Time_cat', data=df, hue='Branch')"
   ]
  },
  {
   "cell_type": "code",
   "execution_count": 24,
   "metadata": {},
   "outputs": [
    {
     "data": {
      "text/html": [
       "<div>\n",
       "<style scoped>\n",
       "    .dataframe tbody tr th:only-of-type {\n",
       "        vertical-align: middle;\n",
       "    }\n",
       "\n",
       "    .dataframe tbody tr th {\n",
       "        vertical-align: top;\n",
       "    }\n",
       "\n",
       "    .dataframe thead th {\n",
       "        text-align: right;\n",
       "    }\n",
       "</style>\n",
       "<table border=\"1\" class=\"dataframe\">\n",
       "  <thead>\n",
       "    <tr style=\"text-align: right;\">\n",
       "      <th></th>\n",
       "      <th>Attrition</th>\n",
       "    </tr>\n",
       "    <tr>\n",
       "      <th>Travel Time_cat</th>\n",
       "      <th></th>\n",
       "    </tr>\n",
       "  </thead>\n",
       "  <tbody>\n",
       "    <tr>\n",
       "      <th>&lt;15</th>\n",
       "      <td>0.145455</td>\n",
       "    </tr>\n",
       "    <tr>\n",
       "      <th>15-25</th>\n",
       "      <td>0.163959</td>\n",
       "    </tr>\n",
       "    <tr>\n",
       "      <th>25-35</th>\n",
       "      <td>0.147945</td>\n",
       "    </tr>\n",
       "    <tr>\n",
       "      <th>35-45</th>\n",
       "      <td>0.162162</td>\n",
       "    </tr>\n",
       "    <tr>\n",
       "      <th>&gt;45</th>\n",
       "      <td>0.210345</td>\n",
       "    </tr>\n",
       "  </tbody>\n",
       "</table>\n",
       "</div>"
      ],
      "text/plain": [
       "                 Attrition\n",
       "Travel Time_cat           \n",
       "<15               0.145455\n",
       "15-25             0.163959\n",
       "25-35             0.147945\n",
       "35-45             0.162162\n",
       ">45               0.210345"
      ]
     },
     "execution_count": 24,
     "metadata": {},
     "output_type": "execute_result"
    }
   ],
   "source": [
    "df.groupby('Travel Time_cat').mean()[['Attrition']]"
   ]
  },
  {
   "cell_type": "markdown",
   "metadata": {},
   "source": [
    "### Conclusions: \n",
    "1. Customers that have travel time more than 45 mins show a higher Attrition Rate (21%) than those with Travel time less than 45 mins (15%-16%)\n",
    "2. On average, customers have tranvel time around 30 mins to all the three club branchs\n"
   ]
  },
  {
   "cell_type": "markdown",
   "metadata": {},
   "source": [
    "## 2.3 Deal with invalid negative value in 'Monthly Income' columns"
   ]
  },
  {
   "cell_type": "code",
   "execution_count": 25,
   "metadata": {},
   "outputs": [
    {
     "data": {
      "text/plain": [
       "<matplotlib.axes._subplots.AxesSubplot at 0x1e43c576d48>"
      ]
     },
     "execution_count": 25,
     "metadata": {},
     "output_type": "execute_result"
    },
    {
     "data": {
      "image/png": "[encoded data removed]",
      "text/plain": [
       "<Figure size 432x288 with 1 Axes>"
      ]
     },
     "metadata": {
      "needs_background": "light"
     },
     "output_type": "display_data"
    }
   ],
   "source": [
    "df['Monthly Income'].hist(bins=20)"
   ]
  },
  {
   "cell_type": "code",
   "execution_count": 26,
   "metadata": {},
   "outputs": [
    {
     "data": {
      "text/plain": [
       "0.12105263157894737"
      ]
     },
     "execution_count": 26,
     "metadata": {},
     "output_type": "execute_result"
    }
   ],
   "source": [
    "((df['Monthly Income']<0).sum())/len(df)"
   ]
  },
  {
   "cell_type": "code",
   "execution_count": 27,
   "metadata": {},
   "outputs": [],
   "source": [
    "# Thers are 12% of values with negative monthly incomes, \n",
    "# The distributin of negative monthly income looks mirror (although much smaller amount) the positive values\n",
    "# We check the Attrtion rates in negative and positive monthly income groups"
   ]
  },
  {
   "cell_type": "code",
   "execution_count": 28,
   "metadata": {},
   "outputs": [
    {
     "data": {
      "text/plain": [
       "Attrition    0.170569\n",
       "dtype: float64"
      ]
     },
     "execution_count": 28,
     "metadata": {},
     "output_type": "execute_result"
    }
   ],
   "source": [
    "Negative_income=df[df['Monthly Income']<0][['Attrition']]\n",
    "Negative_income_Attrition_Rate=Negative_income.sum()/len(Negative_income)\n",
    "Negative_income_Attrition_Rate"
   ]
  },
  {
   "cell_type": "code",
   "execution_count": 29,
   "metadata": {},
   "outputs": [
    {
     "data": {
      "text/plain": [
       "Attrition    0.169507\n",
       "dtype: float64"
      ]
     },
     "execution_count": 29,
     "metadata": {},
     "output_type": "execute_result"
    }
   ],
   "source": [
    "Positive_income=df[df['Monthly Income']>0][['Attrition']]\n",
    "Positive_income_Attrition_Rate=Positive_income.sum()/len(Positive_income)\n",
    "Positive_income_Attrition_Rate"
   ]
  },
  {
   "cell_type": "code",
   "execution_count": 30,
   "metadata": {},
   "outputs": [],
   "source": [
    "# The two attrition rates are very close, thus reasonable to convert the negative monthly incomes into positive ones"
   ]
  },
  {
   "cell_type": "code",
   "execution_count": 31,
   "metadata": {},
   "outputs": [],
   "source": [
    "df['Monthly Income']=abs(df['Monthly Income'])"
   ]
  },
  {
   "cell_type": "code",
   "execution_count": 32,
   "metadata": {},
   "outputs": [
    {
     "data": {
      "text/plain": [
       "<matplotlib.legend.Legend at 0x1e43c642348>"
      ]
     },
     "execution_count": 32,
     "metadata": {},
     "output_type": "execute_result"
    },
    {
     "data": {
      "image/png": "[encoded data removed]",
      "text/plain": [
       "<Figure size 432x288 with 1 Axes>"
      ]
     },
     "metadata": {
      "needs_background": "light"
     },
     "output_type": "display_data"
    }
   ],
   "source": [
    "df[df['Attrition']==0]['Monthly Income'].hist(bins=30, color='green', label= 'Attrition 0', alpha=0.5)\n",
    "df[df['Attrition']==1]['Monthly Income'].hist(bins=30,color='red', label= 'Attrition 1',alpha=0.5)\n",
    "plt.xlabel('Monthly Income')\n",
    "plt.legend()"
   ]
  },
  {
   "cell_type": "code",
   "execution_count": 33,
   "metadata": {},
   "outputs": [
    {
     "data": {
      "text/plain": [
       "Attrition\n",
       "0    7005.297903\n",
       "1    6015.157518\n",
       "Name: Monthly Income, dtype: float64"
      ]
     },
     "execution_count": 33,
     "metadata": {},
     "output_type": "execute_result"
    }
   ],
   "source": [
    "df.groupby('Attrition').mean()['Monthly Income']"
   ]
  },
  {
   "cell_type": "markdown",
   "metadata": {},
   "source": [
    "### Condlusion\n",
    "1. Customers opt to Attrition has SGD 1k less monthly income than those who keep the membership."
   ]
  },
  {
   "cell_type": "markdown",
   "metadata": {},
   "source": [
    "## 2.4 Deal with negative value (-1) in 'Age' and 'Birth Year' columns"
   ]
  },
  {
   "cell_type": "code",
   "execution_count": 34,
   "metadata": {},
   "outputs": [
    {
     "data": {
      "text/plain": [
       "array([[<matplotlib.axes._subplots.AxesSubplot object at 0x000001E43C73E188>,\n",
       "        <matplotlib.axes._subplots.AxesSubplot object at 0x000001E43C77BCC8>]],\n",
       "      dtype=object)"
      ]
     },
     "execution_count": 34,
     "metadata": {},
     "output_type": "execute_result"
    },
    {
     "data": {
      "image/png": "[encoded data removed]",
      "text/plain": [
       "<Figure size 1080x432 with 2 Axes>"
      ]
     },
     "metadata": {
      "needs_background": "light"
     },
     "output_type": "display_data"
    }
   ],
   "source": [
    "df[['Age','Birth Year']].hist(figsize=(15,6),bins=20)"
   ]
  },
  {
   "cell_type": "code",
   "execution_count": 35,
   "metadata": {},
   "outputs": [
    {
     "data": {
      "text/plain": [
       "0"
      ]
     },
     "execution_count": 35,
     "metadata": {},
     "output_type": "execute_result"
    }
   ],
   "source": [
    "#Calculate the Number of rows with both negative 'Age' and negative 'Birth Year' values\n",
    "and_neg= len(df[(df['Age']<0) & (df['Birth Year']<0 )])\n",
    "and_neg"
   ]
  },
  {
   "cell_type": "code",
   "execution_count": 36,
   "metadata": {},
   "outputs": [
    {
     "data": {
      "text/plain": [
       "599"
      ]
     },
     "execution_count": 36,
     "metadata": {},
     "output_type": "execute_result"
    }
   ],
   "source": [
    "#Calculate the Number of rows with either negative 'Age' or negative 'Birth Year' values\n",
    "or_neg= len(df[(df['Age']<0) | (df['Birth Year']<0 )])\n",
    "or_neg"
   ]
  },
  {
   "cell_type": "code",
   "execution_count": 37,
   "metadata": {},
   "outputs": [
    {
     "data": {
      "text/plain": [
       "291"
      ]
     },
     "execution_count": 37,
     "metadata": {},
     "output_type": "execute_result"
    }
   ],
   "source": [
    "#Calculate the Number of rows with negative 'Age' values\n",
    "len(df[df['Age']<0])"
   ]
  },
  {
   "cell_type": "code",
   "execution_count": 38,
   "metadata": {},
   "outputs": [
    {
     "data": {
      "text/plain": [
       "308"
      ]
     },
     "execution_count": 38,
     "metadata": {},
     "output_type": "execute_result"
    }
   ],
   "source": [
    "#Calculate the Number of rows with negative 'Birth Year' values\n",
    "len(df[df['Birth Year']<0])"
   ]
  },
  {
   "cell_type": "code",
   "execution_count": 39,
   "metadata": {},
   "outputs": [],
   "source": [
    "# It is observed that there are 291 invalid 'Age' values, 308 invalid 'Birth Year' values\n",
    "# Luckily every data entry has at least one valid 'Age' or valid 'Birth Year' values\n",
    "# Next I will try to fill the invalid 'Age' values with estimated age values"
   ]
  },
  {
   "cell_type": "code",
   "execution_count": 40,
   "metadata": {},
   "outputs": [],
   "source": [
    "# Explore relationship between 'Age', 'Birth Year' and 'Months' based on rows with valid positive values"
   ]
  },
  {
   "cell_type": "code",
   "execution_count": 41,
   "metadata": {},
   "outputs": [],
   "source": [
    "Age_Birth=df[(df['Age']>0) & (df['Birth Year']>0)][['Age','Birth Year']]"
   ]
  },
  {
   "cell_type": "code",
   "execution_count": 42,
   "metadata": {},
   "outputs": [
    {
     "data": {
      "text/plain": [
       "2022    1871\n",
       "Name: Current_Year, dtype: int64"
      ]
     },
     "execution_count": 42,
     "metadata": {},
     "output_type": "execute_result"
    }
   ],
   "source": [
    "Age_Birth['Current_Year']= Age_Birth['Age']+Age_Birth['Birth Year']\n",
    "Age_Birth['Current_Year'].value_counts()"
   ]
  },
  {
   "cell_type": "code",
   "execution_count": 43,
   "metadata": {},
   "outputs": [],
   "source": [
    "# Therefore, calculate 'Age'=2022-'Birth Year' for invalid age values;\n",
    "# This indicates that database is for customers who signed up membership this year."
   ]
  },
  {
   "cell_type": "code",
   "execution_count": 44,
   "metadata": {},
   "outputs": [],
   "source": [
    "df['Age']=np.where(df['Age']>0, df['Age'], (2022-df['Birth Year']))"
   ]
  },
  {
   "cell_type": "code",
   "execution_count": 45,
   "metadata": {},
   "outputs": [
    {
     "data": {
      "text/plain": [
       "<matplotlib.legend.Legend at 0x1e43ca9ca48>"
      ]
     },
     "execution_count": 45,
     "metadata": {},
     "output_type": "execute_result"
    },
    {
     "data": {
      "image/png": "[encoded data removed]",
      "text/plain": [
       "<Figure size 432x288 with 1 Axes>"
      ]
     },
     "metadata": {
      "needs_background": "light"
     },
     "output_type": "display_data"
    }
   ],
   "source": [
    "df[df['Attrition']==0]['Age'].hist(bins=20, color='green', label= 'Attrition: 0', alpha=0.5)\n",
    "df[df['Attrition']==1]['Age'].hist(bins=20,color='red', label= 'Attrition: 1',alpha=0.5)\n",
    "plt.xlabel('Monthly Income')\n",
    "plt.legend()"
   ]
  },
  {
   "cell_type": "code",
   "execution_count": 46,
   "metadata": {},
   "outputs": [
    {
     "data": {
      "text/plain": [
       "Attrition\n",
       "0    41.133106\n",
       "1    39.257757\n",
       "Name: Age, dtype: float64"
      ]
     },
     "execution_count": 46,
     "metadata": {},
     "output_type": "execute_result"
    }
   ],
   "source": [
    "df.groupby('Attrition').mean()['Age']"
   ]
  },
  {
   "cell_type": "code",
   "execution_count": 47,
   "metadata": {},
   "outputs": [],
   "source": [
    "df.drop('Birth Year', axis=1, inplace=True)"
   ]
  },
  {
   "cell_type": "markdown",
   "metadata": {},
   "source": [
    "### Conclusion\n",
    "1. For the two groups, members opt to Attrition are slightly younger than those keep membership, although the age difference is not much."
   ]
  },
  {
   "cell_type": "markdown",
   "metadata": {},
   "source": [
    "## 2.4 Convert the Qualification column"
   ]
  },
  {
   "cell_type": "code",
   "execution_count": 48,
   "metadata": {},
   "outputs": [
    {
     "data": {
      "text/plain": [
       "Bachelor                891\n",
       "Diploma                 765\n",
       "Master                  641\n",
       "Ph.D                    100\n",
       "Bachelor's               41\n",
       "Master's                 27\n",
       "Doctor of Philosophy      5\n",
       "Name: Qualification, dtype: int64"
      ]
     },
     "execution_count": 48,
     "metadata": {},
     "output_type": "execute_result"
    }
   ],
   "source": [
    "df['Qualification'].value_counts()"
   ]
  },
  {
   "cell_type": "code",
   "execution_count": 49,
   "metadata": {},
   "outputs": [],
   "source": [
    "# convert Bacheloar's into Bachelor; Convert 'Master's' into 'Master'; Convert \"Doctor of Philosophy\" to \"Ph.D\"\n",
    "df['Qualification']=df['Qualification'].map(\n",
    "    {'Bachelor':'Bachelor',\n",
    "     'Master':'Master',\n",
    "     'Ph.D':'Ph.D',\n",
    "     'Diploma':'Diploma',\n",
    "    \n",
    "    \"Bachelor's\":'Bachelor',\n",
    "     \"Master's\":'Master',\n",
    "     'Doctor of Philosophy':'Ph.D'})"
   ]
  },
  {
   "cell_type": "code",
   "execution_count": 50,
   "metadata": {},
   "outputs": [
    {
     "data": {
      "text/plain": [
       "Bachelor    932\n",
       "Diploma     765\n",
       "Master      668\n",
       "Ph.D        105\n",
       "Name: Qualification, dtype: int64"
      ]
     },
     "execution_count": 50,
     "metadata": {},
     "output_type": "execute_result"
    }
   ],
   "source": [
    "df['Qualification'].value_counts()"
   ]
  },
  {
   "cell_type": "code",
   "execution_count": 51,
   "metadata": {},
   "outputs": [
    {
     "data": {
      "text/html": [
       "<div>\n",
       "<style scoped>\n",
       "    .dataframe tbody tr th:only-of-type {\n",
       "        vertical-align: middle;\n",
       "    }\n",
       "\n",
       "    .dataframe tbody tr th {\n",
       "        vertical-align: top;\n",
       "    }\n",
       "\n",
       "    .dataframe thead th {\n",
       "        text-align: right;\n",
       "    }\n",
       "</style>\n",
       "<table border=\"1\" class=\"dataframe\">\n",
       "  <thead>\n",
       "    <tr style=\"text-align: right;\">\n",
       "      <th></th>\n",
       "      <th></th>\n",
       "      <th>Attrition</th>\n",
       "    </tr>\n",
       "    <tr>\n",
       "      <th>Qualification</th>\n",
       "      <th>Gender</th>\n",
       "      <th></th>\n",
       "    </tr>\n",
       "  </thead>\n",
       "  <tbody>\n",
       "    <tr>\n",
       "      <th rowspan=\"2\" valign=\"top\">Bachelor</th>\n",
       "      <th>Female</th>\n",
       "      <td>0.164894</td>\n",
       "    </tr>\n",
       "    <tr>\n",
       "      <th>Male</th>\n",
       "      <td>0.174460</td>\n",
       "    </tr>\n",
       "    <tr>\n",
       "      <th rowspan=\"2\" valign=\"top\">Diploma</th>\n",
       "      <th>Female</th>\n",
       "      <td>0.180952</td>\n",
       "    </tr>\n",
       "    <tr>\n",
       "      <th>Male</th>\n",
       "      <td>0.191111</td>\n",
       "    </tr>\n",
       "    <tr>\n",
       "      <th rowspan=\"2\" valign=\"top\">Master</th>\n",
       "      <th>Female</th>\n",
       "      <td>0.140741</td>\n",
       "    </tr>\n",
       "    <tr>\n",
       "      <th>Male</th>\n",
       "      <td>0.165829</td>\n",
       "    </tr>\n",
       "    <tr>\n",
       "      <th rowspan=\"2\" valign=\"top\">Ph.D</th>\n",
       "      <th>Female</th>\n",
       "      <td>0.061224</td>\n",
       "    </tr>\n",
       "    <tr>\n",
       "      <th>Male</th>\n",
       "      <td>0.178571</td>\n",
       "    </tr>\n",
       "  </tbody>\n",
       "</table>\n",
       "</div>"
      ],
      "text/plain": [
       "                      Attrition\n",
       "Qualification Gender           \n",
       "Bachelor      Female   0.164894\n",
       "              Male     0.174460\n",
       "Diploma       Female   0.180952\n",
       "              Male     0.191111\n",
       "Master        Female   0.140741\n",
       "              Male     0.165829\n",
       "Ph.D          Female   0.061224\n",
       "              Male     0.178571"
      ]
     },
     "execution_count": 51,
     "metadata": {},
     "output_type": "execute_result"
    }
   ],
   "source": [
    "df.groupby(['Qualification','Gender']).mean()[['Attrition']]"
   ]
  },
  {
   "cell_type": "markdown",
   "metadata": {},
   "source": [
    "### Conclusion:\n",
    "1. The higher degree the female members hold, the less likely they choose Attrition; For male members, attrition rate does not change evidently with qualification;"
   ]
  },
  {
   "cell_type": "markdown",
   "metadata": {},
   "source": [
    "## 2.5 Check other object columns¶"
   ]
  },
  {
   "cell_type": "code",
   "execution_count": 52,
   "metadata": {},
   "outputs": [
    {
     "name": "stdout",
     "output_type": "stream",
     "text": [
      "<class 'pandas.core.frame.DataFrame'>\n",
      "RangeIndex: 2470 entries, 0 to 2469\n",
      "Data columns (total 15 columns):\n",
      " #   Column            Non-Null Count  Dtype   \n",
      "---  ------            --------------  -----   \n",
      " 0   Member Unique ID  2470 non-null   object  \n",
      " 1   Attrition         2470 non-null   int64   \n",
      " 2   Age               2470 non-null   int64   \n",
      " 3   Gender            2470 non-null   object  \n",
      " 4   Monthly Income    2470 non-null   int64   \n",
      " 5   Travel Time       2470 non-null   int64   \n",
      " 6   Qualification     2470 non-null   object  \n",
      " 7   Work Domain       2470 non-null   object  \n",
      " 8   Usage Rate        2470 non-null   int64   \n",
      " 9   Branch            2470 non-null   object  \n",
      " 10  Membership        2470 non-null   object  \n",
      " 11  Months            2470 non-null   int64   \n",
      " 12  Usage Time        2470 non-null   int64   \n",
      " 13  Hours per Week    2470 non-null   int64   \n",
      " 14  Travel Time_cat   2470 non-null   category\n",
      "dtypes: category(1), int64(8), object(6)\n",
      "memory usage: 272.9+ KB\n"
     ]
    }
   ],
   "source": [
    "# Object types: Work Domain, Branch, Membership, Gender\n",
    "df.info()"
   ]
  },
  {
   "cell_type": "markdown",
   "metadata": {},
   "source": [
    "### 2.5.1 Check 'Work Domain'"
   ]
  },
  {
   "cell_type": "code",
   "execution_count": 53,
   "metadata": {},
   "outputs": [
    {
     "data": {
      "text/plain": [
       "<matplotlib.axes._subplots.AxesSubplot at 0x1e43c8e3dc8>"
      ]
     },
     "execution_count": 53,
     "metadata": {},
     "output_type": "execute_result"
    },
    {
     "data": {
      "image/png": "[encoded data removed]",
      "text/plain": [
       "<Figure size 720x360 with 1 Axes>"
      ]
     },
     "metadata": {
      "needs_background": "light"
     },
     "output_type": "display_data"
    }
   ],
   "source": [
    "plt.figure(figsize=(10,5))\n",
    "sns.countplot(x='Work Domain',hue='Attrition', data=df)"
   ]
  },
  {
   "cell_type": "code",
   "execution_count": 54,
   "metadata": {},
   "outputs": [
    {
     "data": {
      "text/html": [
       "<div>\n",
       "<style scoped>\n",
       "    .dataframe tbody tr th:only-of-type {\n",
       "        vertical-align: middle;\n",
       "    }\n",
       "\n",
       "    .dataframe tbody tr th {\n",
       "        vertical-align: top;\n",
       "    }\n",
       "\n",
       "    .dataframe thead th {\n",
       "        text-align: right;\n",
       "    }\n",
       "</style>\n",
       "<table border=\"1\" class=\"dataframe\">\n",
       "  <thead>\n",
       "    <tr style=\"text-align: right;\">\n",
       "      <th></th>\n",
       "      <th>Attrition</th>\n",
       "    </tr>\n",
       "    <tr>\n",
       "      <th>Work Domain</th>\n",
       "      <th></th>\n",
       "    </tr>\n",
       "  </thead>\n",
       "  <tbody>\n",
       "    <tr>\n",
       "      <th>Business</th>\n",
       "      <td>0.212996</td>\n",
       "    </tr>\n",
       "    <tr>\n",
       "      <th>Engineering</th>\n",
       "      <td>0.158385</td>\n",
       "    </tr>\n",
       "    <tr>\n",
       "      <th>Information Technology</th>\n",
       "      <td>0.149020</td>\n",
       "    </tr>\n",
       "    <tr>\n",
       "      <th>Medical</th>\n",
       "      <td>0.154930</td>\n",
       "    </tr>\n",
       "    <tr>\n",
       "      <th>Science</th>\n",
       "      <td>0.209677</td>\n",
       "    </tr>\n",
       "    <tr>\n",
       "      <th>Unemployed</th>\n",
       "      <td>0.263889</td>\n",
       "    </tr>\n",
       "  </tbody>\n",
       "</table>\n",
       "</div>"
      ],
      "text/plain": [
       "                        Attrition\n",
       "Work Domain                      \n",
       "Business                 0.212996\n",
       "Engineering              0.158385\n",
       "Information Technology   0.149020\n",
       "Medical                  0.154930\n",
       "Science                  0.209677\n",
       "Unemployed               0.263889"
      ]
     },
     "execution_count": 54,
     "metadata": {},
     "output_type": "execute_result"
    }
   ],
   "source": [
    "df.groupby(['Work Domain']).mean()[['Attrition']]"
   ]
  },
  {
   "cell_type": "code",
   "execution_count": 55,
   "metadata": {},
   "outputs": [
    {
     "data": {
      "text/html": [
       "<div>\n",
       "<style scoped>\n",
       "    .dataframe tbody tr th:only-of-type {\n",
       "        vertical-align: middle;\n",
       "    }\n",
       "\n",
       "    .dataframe tbody tr th {\n",
       "        vertical-align: top;\n",
       "    }\n",
       "\n",
       "    .dataframe thead th {\n",
       "        text-align: right;\n",
       "    }\n",
       "</style>\n",
       "<table border=\"1\" class=\"dataframe\">\n",
       "  <thead>\n",
       "    <tr style=\"text-align: right;\">\n",
       "      <th></th>\n",
       "      <th></th>\n",
       "      <th>Attrition</th>\n",
       "    </tr>\n",
       "    <tr>\n",
       "      <th>Work Domain</th>\n",
       "      <th>Gender</th>\n",
       "      <th></th>\n",
       "    </tr>\n",
       "  </thead>\n",
       "  <tbody>\n",
       "    <tr>\n",
       "      <th rowspan=\"2\" valign=\"top\">Business</th>\n",
       "      <th>Female</th>\n",
       "      <td>0.228070</td>\n",
       "    </tr>\n",
       "    <tr>\n",
       "      <th>Male</th>\n",
       "      <td>0.202454</td>\n",
       "    </tr>\n",
       "    <tr>\n",
       "      <th rowspan=\"2\" valign=\"top\">Engineering</th>\n",
       "      <th>Female</th>\n",
       "      <td>0.156410</td>\n",
       "    </tr>\n",
       "    <tr>\n",
       "      <th>Male</th>\n",
       "      <td>0.159722</td>\n",
       "    </tr>\n",
       "    <tr>\n",
       "      <th rowspan=\"2\" valign=\"top\">Information Technology</th>\n",
       "      <th>Female</th>\n",
       "      <td>0.132075</td>\n",
       "    </tr>\n",
       "    <tr>\n",
       "      <th>Male</th>\n",
       "      <td>0.161074</td>\n",
       "    </tr>\n",
       "    <tr>\n",
       "      <th rowspan=\"2\" valign=\"top\">Medical</th>\n",
       "      <th>Female</th>\n",
       "      <td>0.076923</td>\n",
       "    </tr>\n",
       "    <tr>\n",
       "      <th>Male</th>\n",
       "      <td>0.200000</td>\n",
       "    </tr>\n",
       "    <tr>\n",
       "      <th rowspan=\"2\" valign=\"top\">Science</th>\n",
       "      <th>Female</th>\n",
       "      <td>0.184211</td>\n",
       "    </tr>\n",
       "    <tr>\n",
       "      <th>Male</th>\n",
       "      <td>0.231343</td>\n",
       "    </tr>\n",
       "    <tr>\n",
       "      <th rowspan=\"2\" valign=\"top\">Unemployed</th>\n",
       "      <th>Female</th>\n",
       "      <td>0.272727</td>\n",
       "    </tr>\n",
       "    <tr>\n",
       "      <th>Male</th>\n",
       "      <td>0.260000</td>\n",
       "    </tr>\n",
       "  </tbody>\n",
       "</table>\n",
       "</div>"
      ],
      "text/plain": [
       "                               Attrition\n",
       "Work Domain            Gender           \n",
       "Business               Female   0.228070\n",
       "                       Male     0.202454\n",
       "Engineering            Female   0.156410\n",
       "                       Male     0.159722\n",
       "Information Technology Female   0.132075\n",
       "                       Male     0.161074\n",
       "Medical                Female   0.076923\n",
       "                       Male     0.200000\n",
       "Science                Female   0.184211\n",
       "                       Male     0.231343\n",
       "Unemployed             Female   0.272727\n",
       "                       Male     0.260000"
      ]
     },
     "execution_count": 55,
     "metadata": {},
     "output_type": "execute_result"
    }
   ],
   "source": [
    "df.groupby(['Work Domain','Gender']).mean()[['Attrition']]"
   ]
  },
  {
   "cell_type": "markdown",
   "metadata": {},
   "source": [
    "### Conclusion:\n",
    "1. Unemployed members have the highest attrition rate (26%), followed by Business and Science (21%), and the lowest are Engineering, Medical and Information Technology (~15%)"
   ]
  },
  {
   "cell_type": "markdown",
   "metadata": {},
   "source": [
    "### 2.5.2 Check 'Branch'"
   ]
  },
  {
   "cell_type": "code",
   "execution_count": 56,
   "metadata": {},
   "outputs": [
    {
     "data": {
      "text/plain": [
       "<matplotlib.axes._subplots.AxesSubplot at 0x1e43c9dcc48>"
      ]
     },
     "execution_count": 56,
     "metadata": {},
     "output_type": "execute_result"
    },
    {
     "data": {
      "image/png": "[encoded data removed]",
      "text/plain": [
       "<Figure size 720x360 with 1 Axes>"
      ]
     },
     "metadata": {
      "needs_background": "light"
     },
     "output_type": "display_data"
    }
   ],
   "source": [
    "plt.figure(figsize=(10,5))\n",
    "sns.countplot(x='Branch',hue='Attrition', data=df)"
   ]
  },
  {
   "cell_type": "code",
   "execution_count": 57,
   "metadata": {},
   "outputs": [
    {
     "data": {
      "text/html": [
       "<div>\n",
       "<style scoped>\n",
       "    .dataframe tbody tr th:only-of-type {\n",
       "        vertical-align: middle;\n",
       "    }\n",
       "\n",
       "    .dataframe tbody tr th {\n",
       "        vertical-align: top;\n",
       "    }\n",
       "\n",
       "    .dataframe thead th {\n",
       "        text-align: right;\n",
       "    }\n",
       "</style>\n",
       "<table border=\"1\" class=\"dataframe\">\n",
       "  <thead>\n",
       "    <tr style=\"text-align: right;\">\n",
       "      <th></th>\n",
       "      <th></th>\n",
       "      <th>Attrition</th>\n",
       "    </tr>\n",
       "    <tr>\n",
       "      <th>Branch</th>\n",
       "      <th>Gender</th>\n",
       "      <th></th>\n",
       "    </tr>\n",
       "  </thead>\n",
       "  <tbody>\n",
       "    <tr>\n",
       "      <th rowspan=\"2\" valign=\"top\">Changi</th>\n",
       "      <th>Female</th>\n",
       "      <td>0.206897</td>\n",
       "    </tr>\n",
       "    <tr>\n",
       "      <th>Male</th>\n",
       "      <td>0.200461</td>\n",
       "    </tr>\n",
       "    <tr>\n",
       "      <th rowspan=\"2\" valign=\"top\">Kranji</th>\n",
       "      <th>Female</th>\n",
       "      <td>0.297872</td>\n",
       "    </tr>\n",
       "    <tr>\n",
       "      <th>Male</th>\n",
       "      <td>0.163043</td>\n",
       "    </tr>\n",
       "    <tr>\n",
       "      <th rowspan=\"2\" valign=\"top\">Thomson</th>\n",
       "      <th>Female</th>\n",
       "      <td>0.120325</td>\n",
       "    </tr>\n",
       "    <tr>\n",
       "      <th>Male</th>\n",
       "      <td>0.168094</td>\n",
       "    </tr>\n",
       "  </tbody>\n",
       "</table>\n",
       "</div>"
      ],
      "text/plain": [
       "                Attrition\n",
       "Branch  Gender           \n",
       "Changi  Female   0.206897\n",
       "        Male     0.200461\n",
       "Kranji  Female   0.297872\n",
       "        Male     0.163043\n",
       "Thomson Female   0.120325\n",
       "        Male     0.168094"
      ]
     },
     "execution_count": 57,
     "metadata": {},
     "output_type": "execute_result"
    }
   ],
   "source": [
    "df.groupby(['Branch','Gender']).mean()[['Attrition']]"
   ]
  },
  {
   "cell_type": "code",
   "execution_count": 58,
   "metadata": {},
   "outputs": [
    {
     "data": {
      "text/html": [
       "<div>\n",
       "<style scoped>\n",
       "    .dataframe tbody tr th:only-of-type {\n",
       "        vertical-align: middle;\n",
       "    }\n",
       "\n",
       "    .dataframe tbody tr th {\n",
       "        vertical-align: top;\n",
       "    }\n",
       "\n",
       "    .dataframe thead th {\n",
       "        text-align: right;\n",
       "    }\n",
       "</style>\n",
       "<table border=\"1\" class=\"dataframe\">\n",
       "  <thead>\n",
       "    <tr style=\"text-align: right;\">\n",
       "      <th></th>\n",
       "      <th>Attrition</th>\n",
       "      <th>Age</th>\n",
       "      <th>Monthly Income</th>\n",
       "      <th>Travel Time</th>\n",
       "      <th>Usage Rate</th>\n",
       "      <th>Months</th>\n",
       "      <th>Usage Time</th>\n",
       "      <th>Hours per Week</th>\n",
       "    </tr>\n",
       "    <tr>\n",
       "      <th>Branch</th>\n",
       "      <th></th>\n",
       "      <th></th>\n",
       "      <th></th>\n",
       "      <th></th>\n",
       "      <th></th>\n",
       "      <th></th>\n",
       "      <th></th>\n",
       "      <th></th>\n",
       "    </tr>\n",
       "  </thead>\n",
       "  <tbody>\n",
       "    <tr>\n",
       "      <th>Changi</th>\n",
       "      <td>0.203325</td>\n",
       "      <td>40.820972</td>\n",
       "      <td>7150.640665</td>\n",
       "      <td>32.251918</td>\n",
       "      <td>2.718670</td>\n",
       "      <td>11.314578</td>\n",
       "      <td>4.980818</td>\n",
       "      <td>11.048593</td>\n",
       "    </tr>\n",
       "    <tr>\n",
       "      <th>Kranji</th>\n",
       "      <td>0.208633</td>\n",
       "      <td>42.287770</td>\n",
       "      <td>7031.561151</td>\n",
       "      <td>32.812950</td>\n",
       "      <td>2.776978</td>\n",
       "      <td>11.258993</td>\n",
       "      <td>4.654676</td>\n",
       "      <td>10.755396</td>\n",
       "    </tr>\n",
       "    <tr>\n",
       "      <th>Thomson</th>\n",
       "      <td>0.149128</td>\n",
       "      <td>40.679793</td>\n",
       "      <td>6661.735959</td>\n",
       "      <td>31.943835</td>\n",
       "      <td>2.812782</td>\n",
       "      <td>10.234990</td>\n",
       "      <td>4.796643</td>\n",
       "      <td>10.890897</td>\n",
       "    </tr>\n",
       "  </tbody>\n",
       "</table>\n",
       "</div>"
      ],
      "text/plain": [
       "         Attrition        Age  Monthly Income  Travel Time  Usage Rate  \\\n",
       "Branch                                                                   \n",
       "Changi    0.203325  40.820972     7150.640665    32.251918    2.718670   \n",
       "Kranji    0.208633  42.287770     7031.561151    32.812950    2.776978   \n",
       "Thomson   0.149128  40.679793     6661.735959    31.943835    2.812782   \n",
       "\n",
       "            Months  Usage Time  Hours per Week  \n",
       "Branch                                          \n",
       "Changi   11.314578    4.980818       11.048593  \n",
       "Kranji   11.258993    4.654676       10.755396  \n",
       "Thomson  10.234990    4.796643       10.890897  "
      ]
     },
     "execution_count": 58,
     "metadata": {},
     "output_type": "execute_result"
    }
   ],
   "source": [
    "df.groupby(['Branch']).mean()"
   ]
  },
  {
   "cell_type": "markdown",
   "metadata": {},
   "source": [
    "### Conclusion: \n",
    "1. Thomson Branch show the 5% less attrition rate than the other two branchs (Changi and Krangi), despite that its members have lower average monthly income\n",
    "2. Krangi has much higher attrition rate among female members than male memebers"
   ]
  },
  {
   "cell_type": "markdown",
   "metadata": {},
   "source": [
    "### 2.5.3 Check 'Membership'"
   ]
  },
  {
   "cell_type": "code",
   "execution_count": 59,
   "metadata": {},
   "outputs": [
    {
     "data": {
      "text/plain": [
       "<matplotlib.axes._subplots.AxesSubplot at 0x1e43c9cc308>"
      ]
     },
     "execution_count": 59,
     "metadata": {},
     "output_type": "execute_result"
    },
    {
     "data": {
      "image/png": "[encoded data removed]",
      "text/plain": [
       "<Figure size 720x360 with 1 Axes>"
      ]
     },
     "metadata": {
      "needs_background": "light"
     },
     "output_type": "display_data"
    }
   ],
   "source": [
    "plt.figure(figsize=(10,5))\n",
    "sns.countplot(x='Membership',hue='Attrition', data=df,order=['Normal','Bronze','Silver','Gold'])"
   ]
  },
  {
   "cell_type": "code",
   "execution_count": 60,
   "metadata": {},
   "outputs": [
    {
     "data": {
      "text/html": [
       "<div>\n",
       "<style scoped>\n",
       "    .dataframe tbody tr th:only-of-type {\n",
       "        vertical-align: middle;\n",
       "    }\n",
       "\n",
       "    .dataframe tbody tr th {\n",
       "        vertical-align: top;\n",
       "    }\n",
       "\n",
       "    .dataframe thead th {\n",
       "        text-align: right;\n",
       "    }\n",
       "</style>\n",
       "<table border=\"1\" class=\"dataframe\">\n",
       "  <thead>\n",
       "    <tr style=\"text-align: right;\">\n",
       "      <th></th>\n",
       "      <th>Attrition</th>\n",
       "      <th>Age</th>\n",
       "      <th>Monthly Income</th>\n",
       "      <th>Travel Time</th>\n",
       "      <th>Usage Rate</th>\n",
       "      <th>Months</th>\n",
       "      <th>Usage Time</th>\n",
       "      <th>Hours per Week</th>\n",
       "    </tr>\n",
       "    <tr>\n",
       "      <th>Membership</th>\n",
       "      <th></th>\n",
       "      <th></th>\n",
       "      <th></th>\n",
       "      <th></th>\n",
       "      <th></th>\n",
       "      <th></th>\n",
       "      <th></th>\n",
       "      <th></th>\n",
       "    </tr>\n",
       "  </thead>\n",
       "  <tbody>\n",
       "    <tr>\n",
       "      <th>Bronze</th>\n",
       "      <td>0.175182</td>\n",
       "      <td>40.812044</td>\n",
       "      <td>6585.934307</td>\n",
       "      <td>32.072993</td>\n",
       "      <td>2.750000</td>\n",
       "      <td>10.538321</td>\n",
       "      <td>4.954380</td>\n",
       "      <td>11.160584</td>\n",
       "    </tr>\n",
       "    <tr>\n",
       "      <th>Gold</th>\n",
       "      <td>0.237179</td>\n",
       "      <td>41.448718</td>\n",
       "      <td>6880.634615</td>\n",
       "      <td>31.916667</td>\n",
       "      <td>2.762821</td>\n",
       "      <td>11.089744</td>\n",
       "      <td>4.846154</td>\n",
       "      <td>10.756410</td>\n",
       "    </tr>\n",
       "    <tr>\n",
       "      <th>Normal</th>\n",
       "      <td>0.160188</td>\n",
       "      <td>40.745308</td>\n",
       "      <td>6935.182976</td>\n",
       "      <td>32.306971</td>\n",
       "      <td>2.794236</td>\n",
       "      <td>10.560992</td>\n",
       "      <td>4.876676</td>\n",
       "      <td>11.016086</td>\n",
       "    </tr>\n",
       "    <tr>\n",
       "      <th>Silver</th>\n",
       "      <td>0.171533</td>\n",
       "      <td>40.839416</td>\n",
       "      <td>6782.675182</td>\n",
       "      <td>31.043796</td>\n",
       "      <td>2.781022</td>\n",
       "      <td>10.967153</td>\n",
       "      <td>4.470803</td>\n",
       "      <td>10.127737</td>\n",
       "    </tr>\n",
       "  </tbody>\n",
       "</table>\n",
       "</div>"
      ],
      "text/plain": [
       "            Attrition        Age  Monthly Income  Travel Time  Usage Rate  \\\n",
       "Membership                                                                  \n",
       "Bronze       0.175182  40.812044     6585.934307    32.072993    2.750000   \n",
       "Gold         0.237179  41.448718     6880.634615    31.916667    2.762821   \n",
       "Normal       0.160188  40.745308     6935.182976    32.306971    2.794236   \n",
       "Silver       0.171533  40.839416     6782.675182    31.043796    2.781022   \n",
       "\n",
       "               Months  Usage Time  Hours per Week  \n",
       "Membership                                         \n",
       "Bronze      10.538321    4.954380       11.160584  \n",
       "Gold        11.089744    4.846154       10.756410  \n",
       "Normal      10.560992    4.876676       11.016086  \n",
       "Silver      10.967153    4.470803       10.127737  "
      ]
     },
     "execution_count": 60,
     "metadata": {},
     "output_type": "execute_result"
    }
   ],
   "source": [
    "df.groupby(['Membership']).mean()"
   ]
  },
  {
   "cell_type": "markdown",
   "metadata": {},
   "source": [
    "### Conclusion:\n",
    "1. The Attrition rate in general increses with high-tier of Membership from 16% (Normal), 17% (Bronze and Silver) to 24% (Gold)"
   ]
  },
  {
   "cell_type": "markdown",
   "metadata": {},
   "source": [
    "### 2.3.4 Check \"Gender\""
   ]
  },
  {
   "cell_type": "code",
   "execution_count": 61,
   "metadata": {},
   "outputs": [
    {
     "data": {
      "text/plain": [
       "<matplotlib.axes._subplots.AxesSubplot at 0x1e43dc3a308>"
      ]
     },
     "execution_count": 61,
     "metadata": {},
     "output_type": "execute_result"
    },
    {
     "data": {
      "image/png": "[encoded data removed]",
      "text/plain": [
       "<Figure size 720x360 with 1 Axes>"
      ]
     },
     "metadata": {
      "needs_background": "light"
     },
     "output_type": "display_data"
    }
   ],
   "source": [
    "plt.figure(figsize=(10,5))\n",
    "sns.countplot(x='Gender',hue='Attrition', data=df)"
   ]
  },
  {
   "cell_type": "code",
   "execution_count": 62,
   "metadata": {},
   "outputs": [
    {
     "data": {
      "text/html": [
       "<div>\n",
       "<style scoped>\n",
       "    .dataframe tbody tr th:only-of-type {\n",
       "        vertical-align: middle;\n",
       "    }\n",
       "\n",
       "    .dataframe tbody tr th {\n",
       "        vertical-align: top;\n",
       "    }\n",
       "\n",
       "    .dataframe thead th {\n",
       "        text-align: right;\n",
       "    }\n",
       "</style>\n",
       "<table border=\"1\" class=\"dataframe\">\n",
       "  <thead>\n",
       "    <tr style=\"text-align: right;\">\n",
       "      <th></th>\n",
       "      <th>Attrition</th>\n",
       "      <th>Age</th>\n",
       "      <th>Monthly Income</th>\n",
       "      <th>Travel Time</th>\n",
       "      <th>Usage Rate</th>\n",
       "      <th>Months</th>\n",
       "      <th>Usage Time</th>\n",
       "      <th>Hours per Week</th>\n",
       "    </tr>\n",
       "    <tr>\n",
       "      <th>Gender</th>\n",
       "      <th></th>\n",
       "      <th></th>\n",
       "      <th></th>\n",
       "      <th></th>\n",
       "      <th></th>\n",
       "      <th></th>\n",
       "      <th></th>\n",
       "      <th></th>\n",
       "    </tr>\n",
       "  </thead>\n",
       "  <tbody>\n",
       "    <tr>\n",
       "      <th>Female</th>\n",
       "      <td>0.158416</td>\n",
       "      <td>41.396040</td>\n",
       "      <td>6839.001980</td>\n",
       "      <td>31.696040</td>\n",
       "      <td>2.779208</td>\n",
       "      <td>10.968317</td>\n",
       "      <td>4.893069</td>\n",
       "      <td>10.985149</td>\n",
       "    </tr>\n",
       "    <tr>\n",
       "      <th>Male</th>\n",
       "      <td>0.177397</td>\n",
       "      <td>40.413014</td>\n",
       "      <td>6836.181507</td>\n",
       "      <td>32.363014</td>\n",
       "      <td>2.782192</td>\n",
       "      <td>10.403425</td>\n",
       "      <td>4.815068</td>\n",
       "      <td>10.897260</td>\n",
       "    </tr>\n",
       "  </tbody>\n",
       "</table>\n",
       "</div>"
      ],
      "text/plain": [
       "        Attrition        Age  Monthly Income  Travel Time  Usage Rate  \\\n",
       "Gender                                                                  \n",
       "Female   0.158416  41.396040     6839.001980    31.696040    2.779208   \n",
       "Male     0.177397  40.413014     6836.181507    32.363014    2.782192   \n",
       "\n",
       "           Months  Usage Time  Hours per Week  \n",
       "Gender                                         \n",
       "Female  10.968317    4.893069       10.985149  \n",
       "Male    10.403425    4.815068       10.897260  "
      ]
     },
     "execution_count": 62,
     "metadata": {},
     "output_type": "execute_result"
    }
   ],
   "source": [
    "df.groupby(['Gender']).mean()"
   ]
  },
  {
   "cell_type": "markdown",
   "metadata": {},
   "source": [
    "### Conclusion:\n",
    "1. Female show slightly lower Attrition rate than their Male counterparts"
   ]
  },
  {
   "cell_type": "markdown",
   "metadata": {},
   "source": [
    "# 3. Insights from EDA"
   ]
  },
  {
   "cell_type": "markdown",
   "metadata": {},
   "source": [
    "### 17% of club members opt for attrition.This is critical to business because it is often more expensive to acquire new customers than to keep existing ones.\n",
    "\n",
    "In general, attrition rate is positively correlated to travel time, but negatively correlated to member's age, monthly income, hours spent in the club,  and number of months as a member."
   ]
  },
  {
   "cell_type": "code",
   "execution_count": 82,
   "metadata": {},
   "outputs": [
    {
     "data": {
      "text/plain": [
       "Text(0.5, 1.0, 'Attrition rate of 17%')"
      ]
     },
     "execution_count": 82,
     "metadata": {},
     "output_type": "execute_result"
    },
    {
     "data": {
      "image/png": "[encoded data removed]",
      "text/plain": [
       "<Figure size 432x288 with 1 Axes>"
      ]
     },
     "metadata": {
      "needs_background": "light"
     },
     "output_type": "display_data"
    }
   ],
   "source": [
    "df['Attrition'].value_counts().plot(kind='bar').set_title('Attrition rate of 17%')"
   ]
  },
  {
   "cell_type": "code",
   "execution_count": 81,
   "metadata": {},
   "outputs": [
    {
     "data": {
      "text/plain": [
       "0.16963562753036437"
      ]
     },
     "execution_count": 81,
     "metadata": {},
     "output_type": "execute_result"
    }
   ],
   "source": [
    "df['Attrition'].sum()/len(df)"
   ]
  },
  {
   "cell_type": "markdown",
   "metadata": {},
   "source": [
    "### 3.1  On average, members who opt for attrition spend 9.3 hours in the country club, it is 2 hours less than those who keep the membership"
   ]
  },
  {
   "cell_type": "code",
   "execution_count": 64,
   "metadata": {},
   "outputs": [
    {
     "data": {
      "text/html": [
       "<div>\n",
       "<style scoped>\n",
       "    .dataframe tbody tr th:only-of-type {\n",
       "        vertical-align: middle;\n",
       "    }\n",
       "\n",
       "    .dataframe tbody tr th {\n",
       "        vertical-align: top;\n",
       "    }\n",
       "\n",
       "    .dataframe thead th {\n",
       "        text-align: right;\n",
       "    }\n",
       "</style>\n",
       "<table border=\"1\" class=\"dataframe\">\n",
       "  <thead>\n",
       "    <tr style=\"text-align: right;\">\n",
       "      <th></th>\n",
       "      <th>Hours per Week</th>\n",
       "    </tr>\n",
       "    <tr>\n",
       "      <th>Attrition</th>\n",
       "      <th></th>\n",
       "    </tr>\n",
       "  </thead>\n",
       "  <tbody>\n",
       "    <tr>\n",
       "      <th>0</th>\n",
       "      <td>11.269625</td>\n",
       "    </tr>\n",
       "    <tr>\n",
       "      <th>1</th>\n",
       "      <td>9.286396</td>\n",
       "    </tr>\n",
       "  </tbody>\n",
       "</table>\n",
       "</div>"
      ],
      "text/plain": [
       "           Hours per Week\n",
       "Attrition                \n",
       "0               11.269625\n",
       "1                9.286396"
      ]
     },
     "execution_count": 64,
     "metadata": {},
     "output_type": "execute_result"
    }
   ],
   "source": [
    "df.groupby('Attrition').mean()[['Hours per Week']]"
   ]
  },
  {
   "cell_type": "code",
   "execution_count": 65,
   "metadata": {},
   "outputs": [
    {
     "data": {
      "text/plain": [
       "<matplotlib.axes._subplots.AxesSubplot at 0x1e43dcbd4c8>"
      ]
     },
     "execution_count": 65,
     "metadata": {},
     "output_type": "execute_result"
    },
    {
     "data": {
      "image/png": "[encoded data removed]",
      "text/plain": [
       "<Figure size 432x288 with 1 Axes>"
      ]
     },
     "metadata": {
      "needs_background": "light"
     },
     "output_type": "display_data"
    }
   ],
   "source": [
    "sns.boxplot(x='Attrition', y='Hours per Week',data=df)"
   ]
  },
  {
   "cell_type": "markdown",
   "metadata": {},
   "source": [
    "### 3.2 Memberes who opt for attrition earn sgd 6000 monthly on average, which is sgd 1000 less than those who keep membership "
   ]
  },
  {
   "cell_type": "code",
   "execution_count": 66,
   "metadata": {},
   "outputs": [
    {
     "data": {
      "text/plain": [
       "<matplotlib.axes._subplots.AxesSubplot at 0x1e43dd26488>"
      ]
     },
     "execution_count": 66,
     "metadata": {},
     "output_type": "execute_result"
    },
    {
     "data": {
      "image/png": "[encoded data removed]",
      "text/plain": [
       "<Figure size 432x288 with 1 Axes>"
      ]
     },
     "metadata": {
      "needs_background": "light"
     },
     "output_type": "display_data"
    }
   ],
   "source": [
    "sns.boxplot(x='Attrition', y='Monthly Income',data=df)"
   ]
  },
  {
   "cell_type": "markdown",
   "metadata": {},
   "source": [
    "### 3.3 Unemployed members have the highest attrition rate (26%), followed by Business and Science (21%). Members in Engineering, Medical and Information Technology show the lowest attrition rate (~15%)"
   ]
  },
  {
   "cell_type": "code",
   "execution_count": 67,
   "metadata": {},
   "outputs": [
    {
     "data": {
      "text/plain": [
       "<matplotlib.axes._subplots.AxesSubplot at 0x1e43ddb5388>"
      ]
     },
     "execution_count": 67,
     "metadata": {},
     "output_type": "execute_result"
    },
    {
     "data": {
      "image/png": "[encoded data removed]",
      "text/plain": [
       "<Figure size 432x288 with 1 Axes>"
      ]
     },
     "metadata": {
      "needs_background": "light"
     },
     "output_type": "display_data"
    }
   ],
   "source": [
    "df.groupby('Work Domain').mean()['Attrition'].sort_values(ascending=False).plot(kind='bar')"
   ]
  },
  {
   "cell_type": "markdown",
   "metadata": {},
   "source": [
    "### 3.4 Among three branches, Thomson Branch has the lowest attrition rate of 15%, which is 5% less than the other two branchs (Changi and Krangi), despite that Thomson Branch has the most memebers and lowest average monthly income.\n",
    "\n",
    "### For female members, Krangi has the higheast attrition rate (30%), while Thomson has the lowest (12%)."
   ]
  },
  {
   "cell_type": "code",
   "execution_count": 83,
   "metadata": {},
   "outputs": [
    {
     "data": {
      "text/plain": [
       "<matplotlib.axes._subplots.AxesSubplot at 0x1e43dfef9c8>"
      ]
     },
     "execution_count": 83,
     "metadata": {},
     "output_type": "execute_result"
    },
    {
     "data": {
      "image/png": "[encoded data removed]",
      "text/plain": [
       "<Figure size 432x288 with 1 Axes>"
      ]
     },
     "metadata": {
      "needs_background": "light"
     },
     "output_type": "display_data"
    }
   ],
   "source": [
    "df.groupby('Branch').mean()['Attrition'].sort_values(ascending=False).plot(kind='bar')"
   ]
  },
  {
   "cell_type": "code",
   "execution_count": 84,
   "metadata": {},
   "outputs": [
    {
     "data": {
      "text/plain": [
       "<matplotlib.axes._subplots.AxesSubplot at 0x1e43e1d07c8>"
      ]
     },
     "execution_count": 84,
     "metadata": {},
     "output_type": "execute_result"
    },
    {
     "data": {
      "image/png": "[encoded data removed]",
      "text/plain": [
       "<Figure size 720x360 with 1 Axes>"
      ]
     },
     "metadata": {
      "needs_background": "light"
     },
     "output_type": "display_data"
    }
   ],
   "source": [
    "plt.figure(figsize=(10,5))\n",
    "sns.countplot(x='Branch',hue='Attrition', data=df)"
   ]
  },
  {
   "cell_type": "code",
   "execution_count": 69,
   "metadata": {},
   "outputs": [
    {
     "data": {
      "text/plain": [
       "(6000, 7500)"
      ]
     },
     "execution_count": 69,
     "metadata": {},
     "output_type": "execute_result"
    },
    {
     "data": {
      "image/png": "[encoded data removed]",
      "text/plain": [
       "<Figure size 432x288 with 1 Axes>"
      ]
     },
     "metadata": {
      "needs_background": "light"
     },
     "output_type": "display_data"
    }
   ],
   "source": [
    "df.groupby('Branch').mean()['Monthly Income'].sort_values(ascending=False).plot(kind='bar')\n",
    "plt.ylim(6000,7500)"
   ]
  },
  {
   "cell_type": "code",
   "execution_count": 70,
   "metadata": {},
   "outputs": [
    {
     "data": {
      "image/png": "[encoded data removed]",
      "text/plain": [
       "<Figure size 648x360 with 2 Axes>"
      ]
     },
     "metadata": {
      "needs_background": "light"
     },
     "output_type": "display_data"
    }
   ],
   "source": [
    "Gender_Branch=df.groupby(['Gender','Branch']).mean()[['Attrition']]\n",
    "ax = Gender_Branch.unstack(level=0).plot(kind='bar', color=['Pink','Skyblue'],subplots=True, figsize=(9, 5), layout=(1, 2))\n",
    "plt.tight_layout()"
   ]
  },
  {
   "cell_type": "markdown",
   "metadata": {},
   "source": [
    "### 3.5 Members with travel time > 45 mins show a higher Attrition Rate (21%) than those with Travel time < 45 mins (15%-16%). The average travel time needed for members is around 30 mins for all 3 branches."
   ]
  },
  {
   "cell_type": "code",
   "execution_count": 71,
   "metadata": {},
   "outputs": [
    {
     "data": {
      "text/plain": [
       "Travel Time_cat\n",
       "<15      0.145455\n",
       "15-25    0.163959\n",
       "25-35    0.147945\n",
       "35-45    0.162162\n",
       ">45      0.210345\n",
       "Name: Attrition, dtype: float64"
      ]
     },
     "execution_count": 71,
     "metadata": {},
     "output_type": "execute_result"
    }
   ],
   "source": [
    "df.groupby(['Travel Time_cat']).mean()['Attrition']"
   ]
  },
  {
   "cell_type": "code",
   "execution_count": 72,
   "metadata": {},
   "outputs": [
    {
     "data": {
      "text/plain": [
       "Branch\n",
       "Changi     32.251918\n",
       "Kranji     32.812950\n",
       "Thomson    31.943835\n",
       "Name: Travel Time, dtype: float64"
      ]
     },
     "execution_count": 72,
     "metadata": {},
     "output_type": "execute_result"
    }
   ],
   "source": [
    "df.groupby(['Branch']).mean()['Travel Time']"
   ]
  },
  {
   "cell_type": "markdown",
   "metadata": {},
   "source": [
    "### 3.6 Members holding higher qualifications tends to have lower attrition rates: 12% (Ph.D), 16% (Master), 17%  (Bachelor) and 19% (Diploma). This trend is more evident among female members than their male counterparts."
   ]
  },
  {
   "cell_type": "code",
   "execution_count": 73,
   "metadata": {},
   "outputs": [
    {
     "data": {
      "text/html": [
       "<div>\n",
       "<style scoped>\n",
       "    .dataframe tbody tr th:only-of-type {\n",
       "        vertical-align: middle;\n",
       "    }\n",
       "\n",
       "    .dataframe tbody tr th {\n",
       "        vertical-align: top;\n",
       "    }\n",
       "\n",
       "    .dataframe thead th {\n",
       "        text-align: right;\n",
       "    }\n",
       "</style>\n",
       "<table border=\"1\" class=\"dataframe\">\n",
       "  <thead>\n",
       "    <tr style=\"text-align: right;\">\n",
       "      <th></th>\n",
       "      <th>Attrition</th>\n",
       "    </tr>\n",
       "    <tr>\n",
       "      <th>Qualification</th>\n",
       "      <th></th>\n",
       "    </tr>\n",
       "  </thead>\n",
       "  <tbody>\n",
       "    <tr>\n",
       "      <th>Diploma</th>\n",
       "      <td>0.186928</td>\n",
       "    </tr>\n",
       "    <tr>\n",
       "      <th>Bachelor</th>\n",
       "      <td>0.170601</td>\n",
       "    </tr>\n",
       "    <tr>\n",
       "      <th>Master</th>\n",
       "      <td>0.155689</td>\n",
       "    </tr>\n",
       "    <tr>\n",
       "      <th>Ph.D</th>\n",
       "      <td>0.123810</td>\n",
       "    </tr>\n",
       "  </tbody>\n",
       "</table>\n",
       "</div>"
      ],
      "text/plain": [
       "               Attrition\n",
       "Qualification           \n",
       "Diploma         0.186928\n",
       "Bachelor        0.170601\n",
       "Master          0.155689\n",
       "Ph.D            0.123810"
      ]
     },
     "execution_count": 73,
     "metadata": {},
     "output_type": "execute_result"
    }
   ],
   "source": [
    "df.groupby(['Qualification']).mean()[['Attrition']].loc[['Diploma','Bachelor','Master','Ph.D']]"
   ]
  },
  {
   "cell_type": "code",
   "execution_count": 74,
   "metadata": {},
   "outputs": [
    {
     "data": {
      "image/png": "[encoded data removed]",
      "text/plain": [
       "<Figure size 648x360 with 2 Axes>"
      ]
     },
     "metadata": {
      "needs_background": "light"
     },
     "output_type": "display_data"
    }
   ],
   "source": [
    "Qua =df.groupby(['Gender','Qualification']).mean()[['Attrition']]\n",
    "ax = Qua.unstack(level=0).loc[['Diploma','Bachelor','Master','Ph.D']].plot(kind='bar', color=['Pink','Skyblue'], subplots=True, figsize=(9, 5), layout=(1, 2))\n",
    "plt.tight_layout()"
   ]
  },
  {
   "cell_type": "markdown",
   "metadata": {},
   "source": [
    "### 3.7 Members with higher-tier membership show higher attrition rate, compared to those with lower ones. This trend is more evident among female members."
   ]
  },
  {
   "cell_type": "code",
   "execution_count": 75,
   "metadata": {},
   "outputs": [
    {
     "data": {
      "text/html": [
       "<div>\n",
       "<style scoped>\n",
       "    .dataframe tbody tr th:only-of-type {\n",
       "        vertical-align: middle;\n",
       "    }\n",
       "\n",
       "    .dataframe tbody tr th {\n",
       "        vertical-align: top;\n",
       "    }\n",
       "\n",
       "    .dataframe thead th {\n",
       "        text-align: right;\n",
       "    }\n",
       "</style>\n",
       "<table border=\"1\" class=\"dataframe\">\n",
       "  <thead>\n",
       "    <tr style=\"text-align: right;\">\n",
       "      <th></th>\n",
       "      <th>Attrition</th>\n",
       "    </tr>\n",
       "    <tr>\n",
       "      <th>Membership</th>\n",
       "      <th></th>\n",
       "    </tr>\n",
       "  </thead>\n",
       "  <tbody>\n",
       "    <tr>\n",
       "      <th>Normal</th>\n",
       "      <td>0.160188</td>\n",
       "    </tr>\n",
       "    <tr>\n",
       "      <th>Bronze</th>\n",
       "      <td>0.175182</td>\n",
       "    </tr>\n",
       "    <tr>\n",
       "      <th>Silver</th>\n",
       "      <td>0.171533</td>\n",
       "    </tr>\n",
       "    <tr>\n",
       "      <th>Gold</th>\n",
       "      <td>0.237179</td>\n",
       "    </tr>\n",
       "  </tbody>\n",
       "</table>\n",
       "</div>"
      ],
      "text/plain": [
       "            Attrition\n",
       "Membership           \n",
       "Normal       0.160188\n",
       "Bronze       0.175182\n",
       "Silver       0.171533\n",
       "Gold         0.237179"
      ]
     },
     "execution_count": 75,
     "metadata": {},
     "output_type": "execute_result"
    }
   ],
   "source": [
    "df.groupby(['Membership']).mean()[['Attrition']].loc[['Normal','Bronze','Silver','Gold']]"
   ]
  },
  {
   "cell_type": "code",
   "execution_count": 76,
   "metadata": {},
   "outputs": [
    {
     "data": {
      "image/png": "[encoded data removed]",
      "text/plain": [
       "<Figure size 648x360 with 2 Axes>"
      ]
     },
     "metadata": {
      "needs_background": "light"
     },
     "output_type": "display_data"
    }
   ],
   "source": [
    "Qua =df.groupby(['Gender','Membership']).mean()[['Attrition']]\n",
    "ax = Qua.unstack(level=0).loc[['Normal','Bronze','Silver','Gold']].plot(kind='bar', subplots=True,color=['Pink','Skyblue'], figsize=(9, 5), layout=(1, 2))\n",
    "plt.tight_layout()"
   ]
  },
  {
   "cell_type": "markdown",
   "metadata": {},
   "source": [
    "## Completed!"
   ]
  },
  {
   "cell_type": "code",
   "execution_count": null,
   "metadata": {},
   "outputs": [],
   "source": []
  }
 ],
 "metadata": {
  "kernelspec": {
   "display_name": "Python 3",
   "language": "python",
   "name": "python3"
  },
  "language_info": {
   "codemirror_mode": {
    "name": "ipython",
    "version": 3
   },
   "file_extension": ".py",
   "mimetype": "text/x-python",
   "name": "python",
   "nbconvert_exporter": "python",
   "pygments_lexer": "ipython3",
   "version": "3.7.6"
  }
 },
 "nbformat": 4,
 "nbformat_minor": 4
}
